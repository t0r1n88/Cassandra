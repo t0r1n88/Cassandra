{
 "cells": [
  {
   "cell_type": "code",
   "execution_count": 18,
   "id": "f5c26d22",
   "metadata": {},
   "outputs": [],
   "source": [
    "import pandas as pd\n",
    "import random"
   ]
  },
  {
   "cell_type": "code",
   "execution_count": 44,
   "id": "ba820f0f",
   "metadata": {},
   "outputs": [],
   "source": [
    "def generate_random_serires_doc():\n",
    "    \"\"\"\n",
    "    Функция для генерации случайной серии\n",
    "    \"\"\"\n",
    "    letters = ''.join(random.choices(lst_let,k=3))\n",
    "    dig =''.join([str(random.randint(0,9)) for i in range(3)])\n",
    "    return letters + str(dig)\n",
    "\n",
    "def generate_number_doc():\n",
    "    \"\"\"\n",
    "    Функция для генерации случайного номера\n",
    "    \"\"\"\n",
    "    return ''.join([str(random.randint(0,9)) for i in range(5)])"
   ]
  },
  {
   "cell_type": "code",
   "execution_count": 19,
   "id": "7224d457",
   "metadata": {},
   "outputs": [],
   "source": [
    "lst_status = ['Сирота','Инвалид','ОВЗ','Беженец','Ребенок участника СВО','СОП']\n",
    "doc_status = ['Справка']\n",
    "lst_let = ['А','Б','В','Г','М','С','Э','К','Е','Т']\n",
    "\n",
    "\n"
   ]
  },
  {
   "cell_type": "code",
   "execution_count": 4,
   "id": "9fe49116",
   "metadata": {},
   "outputs": [],
   "source": [
    "df = pd.read_excel('data/Основная таблица.xlsx')"
   ]
  },
  {
   "cell_type": "code",
   "execution_count": 7,
   "id": "59f0557f",
   "metadata": {},
   "outputs": [
    {
     "data": {
      "text/plain": [
       "(1002, 19)"
      ]
     },
     "execution_count": 7,
     "metadata": {},
     "output_type": "execute_result"
    }
   ],
   "source": [
    "df.shape"
   ]
  },
  {
   "cell_type": "code",
   "execution_count": 10,
   "id": "df87e6f5",
   "metadata": {},
   "outputs": [
    {
     "data": {
      "text/plain": [
       "Index(['Фамилия', 'Имя', 'Отчество', 'ФИО', 'Дата рождения', 'Номер телефона',\n",
       "       'Электронная почта', 'Адрес прописки', 'Фактический адрес',\n",
       "       'Серия и номер паспорта', 'Серия паспорта', 'Номер паспорта',\n",
       "       'Код подразделения', 'Кем выдан', 'Дата выдачи паспорта', 'ИНН ФЗ/ИП',\n",
       "       'СНИЛС', 'ОМС', 'Направление'],\n",
       "      dtype='object')"
      ]
     },
     "execution_count": 10,
     "metadata": {},
     "output_type": "execute_result"
    }
   ],
   "source": [
    "df.columns"
   ]
  },
  {
   "cell_type": "code",
   "execution_count": 12,
   "id": "f011269e",
   "metadata": {},
   "outputs": [],
   "source": [
    "# получаем случайную выборку с определенными колонками\n",
    "random_df = df.sample(183,ignore_index=True,axis=0)"
   ]
  },
  {
   "cell_type": "code",
   "execution_count": 13,
   "id": "ad8de50b",
   "metadata": {},
   "outputs": [
    {
     "data": {
      "text/plain": [
       "(183, 19)"
      ]
     },
     "execution_count": 13,
     "metadata": {},
     "output_type": "execute_result"
    }
   ],
   "source": [
    "random_df.shape"
   ]
  },
  {
   "cell_type": "code",
   "execution_count": 15,
   "id": "503b503d",
   "metadata": {},
   "outputs": [],
   "source": [
    "second_df = random_df[['ФИО','Номер телефона','Фактический адрес','Серия паспорта','Номер паспорта','СНИЛС']]"
   ]
  },
  {
   "cell_type": "code",
   "execution_count": 16,
   "id": "e4f3bfda",
   "metadata": {},
   "outputs": [
    {
     "data": {
      "text/html": [
       "<div>\n",
       "<style scoped>\n",
       "    .dataframe tbody tr th:only-of-type {\n",
       "        vertical-align: middle;\n",
       "    }\n",
       "\n",
       "    .dataframe tbody tr th {\n",
       "        vertical-align: top;\n",
       "    }\n",
       "\n",
       "    .dataframe thead th {\n",
       "        text-align: right;\n",
       "    }\n",
       "</style>\n",
       "<table border=\"1\" class=\"dataframe\">\n",
       "  <thead>\n",
       "    <tr style=\"text-align: right;\">\n",
       "      <th></th>\n",
       "      <th>ФИО</th>\n",
       "      <th>Номер телефона</th>\n",
       "      <th>Фактический адрес</th>\n",
       "      <th>Серия паспорта</th>\n",
       "      <th>Номер паспорта</th>\n",
       "      <th>СНИЛС</th>\n",
       "    </tr>\n",
       "  </thead>\n",
       "  <tbody>\n",
       "    <tr>\n",
       "      <th>0</th>\n",
       "      <td>Байдавлетова Виктория Юрьевна</td>\n",
       "      <td>+7 (940) 710-41-74</td>\n",
       "      <td>Россия, г. Дербент, Красноармейская ул., д. 12...</td>\n",
       "      <td>4317</td>\n",
       "      <td>721367</td>\n",
       "      <td>409-535-029 76</td>\n",
       "    </tr>\n",
       "    <tr>\n",
       "      <th>1</th>\n",
       "      <td>Глухов Давид Алексеевич</td>\n",
       "      <td>+7 (963) 990-80-89</td>\n",
       "      <td>Россия, г. Железногорск, Дорожная ул., д. 12 к...</td>\n",
       "      <td>4698</td>\n",
       "      <td>945117</td>\n",
       "      <td>375-399-415 34</td>\n",
       "    </tr>\n",
       "    <tr>\n",
       "      <th>2</th>\n",
       "      <td>Ельцин Антон Константинович</td>\n",
       "      <td>+7 (912) 603-53-21</td>\n",
       "      <td>Россия, г. Череповец, Молодежный пер., д. 23 к...</td>\n",
       "      <td>4262</td>\n",
       "      <td>319524</td>\n",
       "      <td>547-632-456 11</td>\n",
       "    </tr>\n",
       "    <tr>\n",
       "      <th>3</th>\n",
       "      <td>Ахременко Лидия Феоктистовна</td>\n",
       "      <td>+7 (914) 787-46-30</td>\n",
       "      <td>Россия, г. Балаково, Коммунистическая ул., д. ...</td>\n",
       "      <td>4288</td>\n",
       "      <td>556639</td>\n",
       "      <td>198-718-687 55</td>\n",
       "    </tr>\n",
       "    <tr>\n",
       "      <th>4</th>\n",
       "      <td>Ломовцев Захар Никитьевич</td>\n",
       "      <td>+7 (996) 617-96-23</td>\n",
       "      <td>Россия, г. Самара, Заводская ул., д. 13 кв.153</td>\n",
       "      <td>4311</td>\n",
       "      <td>324716</td>\n",
       "      <td>179-715-021 99</td>\n",
       "    </tr>\n",
       "    <tr>\n",
       "      <th>...</th>\n",
       "      <td>...</td>\n",
       "      <td>...</td>\n",
       "      <td>...</td>\n",
       "      <td>...</td>\n",
       "      <td>...</td>\n",
       "      <td>...</td>\n",
       "    </tr>\n",
       "    <tr>\n",
       "      <th>178</th>\n",
       "      <td>Журавлева Виктория Юлиановна</td>\n",
       "      <td>+7 (973) 846-53-46</td>\n",
       "      <td>Россия, г. Люберцы, Дорожная ул., д. 13 кв.96</td>\n",
       "      <td>4672</td>\n",
       "      <td>371884</td>\n",
       "      <td>711-735-757 92</td>\n",
       "    </tr>\n",
       "    <tr>\n",
       "      <th>179</th>\n",
       "      <td>Шаломенцева Алина Аркадивна</td>\n",
       "      <td>+7 (919) 570-62-63</td>\n",
       "      <td>Россия, г. Иваново, Зеленая ул., д. 10 кв.66</td>\n",
       "      <td>4078</td>\n",
       "      <td>812967</td>\n",
       "      <td>176-379-324 11</td>\n",
       "    </tr>\n",
       "    <tr>\n",
       "      <th>180</th>\n",
       "      <td>Илькун Павел Константинович</td>\n",
       "      <td>+7 (928) 487-12-79</td>\n",
       "      <td>Россия, г. Рыбинск, Новый пер., д. 13 кв.56</td>\n",
       "      <td>4796</td>\n",
       "      <td>818341</td>\n",
       "      <td>120-780-835 41</td>\n",
       "    </tr>\n",
       "    <tr>\n",
       "      <th>181</th>\n",
       "      <td>Марьина Пелагея Степановна</td>\n",
       "      <td>+7 (960) 165-16-54</td>\n",
       "      <td>Россия, г. Майкоп, Новоселов ул., д. 23 кв.177</td>\n",
       "      <td>4687</td>\n",
       "      <td>343597</td>\n",
       "      <td>862-907-625 41</td>\n",
       "    </tr>\n",
       "    <tr>\n",
       "      <th>182</th>\n",
       "      <td>Трапезников Иван Вячеславович</td>\n",
       "      <td>+7 (951) 515-25-46</td>\n",
       "      <td>Россия, г. Якутск, Солнечный пер., д. 21 кв.65</td>\n",
       "      <td>4963</td>\n",
       "      <td>888687</td>\n",
       "      <td>046-194-590 73</td>\n",
       "    </tr>\n",
       "  </tbody>\n",
       "</table>\n",
       "<p>183 rows × 6 columns</p>\n",
       "</div>"
      ],
      "text/plain": [
       "                               ФИО      Номер телефона  \\\n",
       "0    Байдавлетова Виктория Юрьевна  +7 (940) 710-41-74   \n",
       "1          Глухов Давид Алексеевич  +7 (963) 990-80-89   \n",
       "2      Ельцин Антон Константинович  +7 (912) 603-53-21   \n",
       "3     Ахременко Лидия Феоктистовна  +7 (914) 787-46-30   \n",
       "4        Ломовцев Захар Никитьевич  +7 (996) 617-96-23   \n",
       "..                             ...                 ...   \n",
       "178   Журавлева Виктория Юлиановна  +7 (973) 846-53-46   \n",
       "179    Шаломенцева Алина Аркадивна  +7 (919) 570-62-63   \n",
       "180    Илькун Павел Константинович  +7 (928) 487-12-79   \n",
       "181     Марьина Пелагея Степановна  +7 (960) 165-16-54   \n",
       "182  Трапезников Иван Вячеславович  +7 (951) 515-25-46   \n",
       "\n",
       "                                     Фактический адрес  Серия паспорта  \\\n",
       "0    Россия, г. Дербент, Красноармейская ул., д. 12...            4317   \n",
       "1    Россия, г. Железногорск, Дорожная ул., д. 12 к...            4698   \n",
       "2    Россия, г. Череповец, Молодежный пер., д. 23 к...            4262   \n",
       "3    Россия, г. Балаково, Коммунистическая ул., д. ...            4288   \n",
       "4       Россия, г. Самара, Заводская ул., д. 13 кв.153            4311   \n",
       "..                                                 ...             ...   \n",
       "178      Россия, г. Люберцы, Дорожная ул., д. 13 кв.96            4672   \n",
       "179       Россия, г. Иваново, Зеленая ул., д. 10 кв.66            4078   \n",
       "180        Россия, г. Рыбинск, Новый пер., д. 13 кв.56            4796   \n",
       "181     Россия, г. Майкоп, Новоселов ул., д. 23 кв.177            4687   \n",
       "182     Россия, г. Якутск, Солнечный пер., д. 21 кв.65            4963   \n",
       "\n",
       "     Номер паспорта           СНИЛС  \n",
       "0            721367  409-535-029 76  \n",
       "1            945117  375-399-415 34  \n",
       "2            319524  547-632-456 11  \n",
       "3            556639  198-718-687 55  \n",
       "4            324716  179-715-021 99  \n",
       "..              ...             ...  \n",
       "178          371884  711-735-757 92  \n",
       "179          812967  176-379-324 11  \n",
       "180          818341  120-780-835 41  \n",
       "181          343597  862-907-625 41  \n",
       "182          888687  046-194-590 73  \n",
       "\n",
       "[183 rows x 6 columns]"
      ]
     },
     "execution_count": 16,
     "metadata": {},
     "output_type": "execute_result"
    }
   ],
   "source": [
    "second_df"
   ]
  },
  {
   "cell_type": "code",
   "execution_count": 25,
   "id": "c7716117",
   "metadata": {},
   "outputs": [
    {
     "name": "stderr",
     "output_type": "stream",
     "text": [
      "C:\\Users\\1\\AppData\\Local\\Temp\\ipykernel_18588\\53878290.py:1: SettingWithCopyWarning: \n",
      "A value is trying to be set on a copy of a slice from a DataFrame.\n",
      "Try using .loc[row_indexer,col_indexer] = value instead\n",
      "\n",
      "See the caveats in the documentation: https://pandas.pydata.org/pandas-docs/stable/user_guide/indexing.html#returning-a-view-versus-a-copy\n",
      "  second_df['Статус'] = random.choices(lst_status,k = second_df.shape[0])\n"
     ]
    }
   ],
   "source": [
    "second_df['Статус'] = random.choices(lst_status,k = second_df.shape[0])\n"
   ]
  },
  {
   "cell_type": "code",
   "execution_count": 27,
   "id": "39335e74",
   "metadata": {},
   "outputs": [
    {
     "name": "stderr",
     "output_type": "stream",
     "text": [
      "C:\\Users\\1\\AppData\\Local\\Temp\\ipykernel_18588\\2462403920.py:1: SettingWithCopyWarning: \n",
      "A value is trying to be set on a copy of a slice from a DataFrame.\n",
      "Try using .loc[row_indexer,col_indexer] = value instead\n",
      "\n",
      "See the caveats in the documentation: https://pandas.pydata.org/pandas-docs/stable/user_guide/indexing.html#returning-a-view-versus-a-copy\n",
      "  second_df['Подтверждающий документ'] = random.choice(doc_status)\n"
     ]
    }
   ],
   "source": [
    "second_df['Подтверждающий документ'] = random.choice(doc_status)"
   ]
  },
  {
   "cell_type": "code",
   "execution_count": 49,
   "id": "c04cb763",
   "metadata": {},
   "outputs": [
    {
     "name": "stderr",
     "output_type": "stream",
     "text": [
      "C:\\Users\\1\\AppData\\Local\\Temp\\ipykernel_18588\\900294034.py:1: SettingWithCopyWarning: \n",
      "A value is trying to be set on a copy of a slice from a DataFrame.\n",
      "Try using .loc[row_indexer,col_indexer] = value instead\n",
      "\n",
      "See the caveats in the documentation: https://pandas.pydata.org/pandas-docs/stable/user_guide/indexing.html#returning-a-view-versus-a-copy\n",
      "  second_df['Серия документа'] = [generate_random_serires_doc() for i in range(second_df.shape[0])]\n"
     ]
    }
   ],
   "source": [
    "second_df['Серия документа'] = [generate_random_serires_doc() for i in range(second_df.shape[0])]"
   ]
  },
  {
   "cell_type": "code",
   "execution_count": 47,
   "id": "3b6a9d87",
   "metadata": {},
   "outputs": [
    {
     "name": "stderr",
     "output_type": "stream",
     "text": [
      "C:\\Users\\1\\AppData\\Local\\Temp\\ipykernel_18588\\2140040235.py:1: SettingWithCopyWarning: \n",
      "A value is trying to be set on a copy of a slice from a DataFrame.\n",
      "Try using .loc[row_indexer,col_indexer] = value instead\n",
      "\n",
      "See the caveats in the documentation: https://pandas.pydata.org/pandas-docs/stable/user_guide/indexing.html#returning-a-view-versus-a-copy\n",
      "  second_df['Номер документа'] = [generate_number_doc() for i in range(second_df.shape[0])]\n"
     ]
    }
   ],
   "source": [
    "second_df['Номер документа'] = [generate_number_doc() for i in range(second_df.shape[0])]"
   ]
  },
  {
   "cell_type": "code",
   "execution_count": 50,
   "id": "1dcd14f2",
   "metadata": {},
   "outputs": [
    {
     "data": {
      "text/html": [
       "<div>\n",
       "<style scoped>\n",
       "    .dataframe tbody tr th:only-of-type {\n",
       "        vertical-align: middle;\n",
       "    }\n",
       "\n",
       "    .dataframe tbody tr th {\n",
       "        vertical-align: top;\n",
       "    }\n",
       "\n",
       "    .dataframe thead th {\n",
       "        text-align: right;\n",
       "    }\n",
       "</style>\n",
       "<table border=\"1\" class=\"dataframe\">\n",
       "  <thead>\n",
       "    <tr style=\"text-align: right;\">\n",
       "      <th></th>\n",
       "      <th>ФИО</th>\n",
       "      <th>Номер телефона</th>\n",
       "      <th>Фактический адрес</th>\n",
       "      <th>Серия паспорта</th>\n",
       "      <th>Номер паспорта</th>\n",
       "      <th>СНИЛС</th>\n",
       "      <th>Статус</th>\n",
       "      <th>Подтверждающий документ</th>\n",
       "      <th>Серия документа</th>\n",
       "      <th>Номер документа</th>\n",
       "    </tr>\n",
       "  </thead>\n",
       "  <tbody>\n",
       "    <tr>\n",
       "      <th>0</th>\n",
       "      <td>Байдавлетова Виктория Юрьевна</td>\n",
       "      <td>+7 (940) 710-41-74</td>\n",
       "      <td>Россия, г. Дербент, Красноармейская ул., д. 12...</td>\n",
       "      <td>4317</td>\n",
       "      <td>721367</td>\n",
       "      <td>409-535-029 76</td>\n",
       "      <td>ОВЗ</td>\n",
       "      <td>Справка</td>\n",
       "      <td>АЭС730</td>\n",
       "      <td>70172</td>\n",
       "    </tr>\n",
       "    <tr>\n",
       "      <th>1</th>\n",
       "      <td>Глухов Давид Алексеевич</td>\n",
       "      <td>+7 (963) 990-80-89</td>\n",
       "      <td>Россия, г. Железногорск, Дорожная ул., д. 12 к...</td>\n",
       "      <td>4698</td>\n",
       "      <td>945117</td>\n",
       "      <td>375-399-415 34</td>\n",
       "      <td>Сирота</td>\n",
       "      <td>Справка</td>\n",
       "      <td>ЭЭЭ742</td>\n",
       "      <td>52677</td>\n",
       "    </tr>\n",
       "    <tr>\n",
       "      <th>2</th>\n",
       "      <td>Ельцин Антон Константинович</td>\n",
       "      <td>+7 (912) 603-53-21</td>\n",
       "      <td>Россия, г. Череповец, Молодежный пер., д. 23 к...</td>\n",
       "      <td>4262</td>\n",
       "      <td>319524</td>\n",
       "      <td>547-632-456 11</td>\n",
       "      <td>Инвалид</td>\n",
       "      <td>Справка</td>\n",
       "      <td>ЕМС174</td>\n",
       "      <td>96562</td>\n",
       "    </tr>\n",
       "    <tr>\n",
       "      <th>3</th>\n",
       "      <td>Ахременко Лидия Феоктистовна</td>\n",
       "      <td>+7 (914) 787-46-30</td>\n",
       "      <td>Россия, г. Балаково, Коммунистическая ул., д. ...</td>\n",
       "      <td>4288</td>\n",
       "      <td>556639</td>\n",
       "      <td>198-718-687 55</td>\n",
       "      <td>ОВЗ</td>\n",
       "      <td>Справка</td>\n",
       "      <td>КВЕ975</td>\n",
       "      <td>50011</td>\n",
       "    </tr>\n",
       "    <tr>\n",
       "      <th>4</th>\n",
       "      <td>Ломовцев Захар Никитьевич</td>\n",
       "      <td>+7 (996) 617-96-23</td>\n",
       "      <td>Россия, г. Самара, Заводская ул., д. 13 кв.153</td>\n",
       "      <td>4311</td>\n",
       "      <td>324716</td>\n",
       "      <td>179-715-021 99</td>\n",
       "      <td>ОВЗ</td>\n",
       "      <td>Справка</td>\n",
       "      <td>ВАМ677</td>\n",
       "      <td>39155</td>\n",
       "    </tr>\n",
       "    <tr>\n",
       "      <th>...</th>\n",
       "      <td>...</td>\n",
       "      <td>...</td>\n",
       "      <td>...</td>\n",
       "      <td>...</td>\n",
       "      <td>...</td>\n",
       "      <td>...</td>\n",
       "      <td>...</td>\n",
       "      <td>...</td>\n",
       "      <td>...</td>\n",
       "      <td>...</td>\n",
       "    </tr>\n",
       "    <tr>\n",
       "      <th>178</th>\n",
       "      <td>Журавлева Виктория Юлиановна</td>\n",
       "      <td>+7 (973) 846-53-46</td>\n",
       "      <td>Россия, г. Люберцы, Дорожная ул., д. 13 кв.96</td>\n",
       "      <td>4672</td>\n",
       "      <td>371884</td>\n",
       "      <td>711-735-757 92</td>\n",
       "      <td>Ребенок участника СВО</td>\n",
       "      <td>Справка</td>\n",
       "      <td>ГМА074</td>\n",
       "      <td>17806</td>\n",
       "    </tr>\n",
       "    <tr>\n",
       "      <th>179</th>\n",
       "      <td>Шаломенцева Алина Аркадивна</td>\n",
       "      <td>+7 (919) 570-62-63</td>\n",
       "      <td>Россия, г. Иваново, Зеленая ул., д. 10 кв.66</td>\n",
       "      <td>4078</td>\n",
       "      <td>812967</td>\n",
       "      <td>176-379-324 11</td>\n",
       "      <td>Сирота</td>\n",
       "      <td>Справка</td>\n",
       "      <td>ТГМ757</td>\n",
       "      <td>04293</td>\n",
       "    </tr>\n",
       "    <tr>\n",
       "      <th>180</th>\n",
       "      <td>Илькун Павел Константинович</td>\n",
       "      <td>+7 (928) 487-12-79</td>\n",
       "      <td>Россия, г. Рыбинск, Новый пер., д. 13 кв.56</td>\n",
       "      <td>4796</td>\n",
       "      <td>818341</td>\n",
       "      <td>120-780-835 41</td>\n",
       "      <td>Ребенок участника СВО</td>\n",
       "      <td>Справка</td>\n",
       "      <td>ЕТВ812</td>\n",
       "      <td>31083</td>\n",
       "    </tr>\n",
       "    <tr>\n",
       "      <th>181</th>\n",
       "      <td>Марьина Пелагея Степановна</td>\n",
       "      <td>+7 (960) 165-16-54</td>\n",
       "      <td>Россия, г. Майкоп, Новоселов ул., д. 23 кв.177</td>\n",
       "      <td>4687</td>\n",
       "      <td>343597</td>\n",
       "      <td>862-907-625 41</td>\n",
       "      <td>Ребенок участника СВО</td>\n",
       "      <td>Справка</td>\n",
       "      <td>ГЭБ552</td>\n",
       "      <td>74682</td>\n",
       "    </tr>\n",
       "    <tr>\n",
       "      <th>182</th>\n",
       "      <td>Трапезников Иван Вячеславович</td>\n",
       "      <td>+7 (951) 515-25-46</td>\n",
       "      <td>Россия, г. Якутск, Солнечный пер., д. 21 кв.65</td>\n",
       "      <td>4963</td>\n",
       "      <td>888687</td>\n",
       "      <td>046-194-590 73</td>\n",
       "      <td>Сирота</td>\n",
       "      <td>Справка</td>\n",
       "      <td>КАЕ929</td>\n",
       "      <td>36427</td>\n",
       "    </tr>\n",
       "  </tbody>\n",
       "</table>\n",
       "<p>183 rows × 10 columns</p>\n",
       "</div>"
      ],
      "text/plain": [
       "                               ФИО      Номер телефона  \\\n",
       "0    Байдавлетова Виктория Юрьевна  +7 (940) 710-41-74   \n",
       "1          Глухов Давид Алексеевич  +7 (963) 990-80-89   \n",
       "2      Ельцин Антон Константинович  +7 (912) 603-53-21   \n",
       "3     Ахременко Лидия Феоктистовна  +7 (914) 787-46-30   \n",
       "4        Ломовцев Захар Никитьевич  +7 (996) 617-96-23   \n",
       "..                             ...                 ...   \n",
       "178   Журавлева Виктория Юлиановна  +7 (973) 846-53-46   \n",
       "179    Шаломенцева Алина Аркадивна  +7 (919) 570-62-63   \n",
       "180    Илькун Павел Константинович  +7 (928) 487-12-79   \n",
       "181     Марьина Пелагея Степановна  +7 (960) 165-16-54   \n",
       "182  Трапезников Иван Вячеславович  +7 (951) 515-25-46   \n",
       "\n",
       "                                     Фактический адрес  Серия паспорта  \\\n",
       "0    Россия, г. Дербент, Красноармейская ул., д. 12...            4317   \n",
       "1    Россия, г. Железногорск, Дорожная ул., д. 12 к...            4698   \n",
       "2    Россия, г. Череповец, Молодежный пер., д. 23 к...            4262   \n",
       "3    Россия, г. Балаково, Коммунистическая ул., д. ...            4288   \n",
       "4       Россия, г. Самара, Заводская ул., д. 13 кв.153            4311   \n",
       "..                                                 ...             ...   \n",
       "178      Россия, г. Люберцы, Дорожная ул., д. 13 кв.96            4672   \n",
       "179       Россия, г. Иваново, Зеленая ул., д. 10 кв.66            4078   \n",
       "180        Россия, г. Рыбинск, Новый пер., д. 13 кв.56            4796   \n",
       "181     Россия, г. Майкоп, Новоселов ул., д. 23 кв.177            4687   \n",
       "182     Россия, г. Якутск, Солнечный пер., д. 21 кв.65            4963   \n",
       "\n",
       "     Номер паспорта           СНИЛС                 Статус  \\\n",
       "0            721367  409-535-029 76                    ОВЗ   \n",
       "1            945117  375-399-415 34                 Сирота   \n",
       "2            319524  547-632-456 11                Инвалид   \n",
       "3            556639  198-718-687 55                    ОВЗ   \n",
       "4            324716  179-715-021 99                    ОВЗ   \n",
       "..              ...             ...                    ...   \n",
       "178          371884  711-735-757 92  Ребенок участника СВО   \n",
       "179          812967  176-379-324 11                 Сирота   \n",
       "180          818341  120-780-835 41  Ребенок участника СВО   \n",
       "181          343597  862-907-625 41  Ребенок участника СВО   \n",
       "182          888687  046-194-590 73                 Сирота   \n",
       "\n",
       "    Подтверждающий документ Серия документа Номер документа  \n",
       "0                   Справка          АЭС730           70172  \n",
       "1                   Справка          ЭЭЭ742           52677  \n",
       "2                   Справка          ЕМС174           96562  \n",
       "3                   Справка          КВЕ975           50011  \n",
       "4                   Справка          ВАМ677           39155  \n",
       "..                      ...             ...             ...  \n",
       "178                 Справка          ГМА074           17806  \n",
       "179                 Справка          ТГМ757           04293  \n",
       "180                 Справка          ЕТВ812           31083  \n",
       "181                 Справка          ГЭБ552           74682  \n",
       "182                 Справка          КАЕ929           36427  \n",
       "\n",
       "[183 rows x 10 columns]"
      ]
     },
     "execution_count": 50,
     "metadata": {},
     "output_type": "execute_result"
    }
   ],
   "source": [
    "second_df"
   ]
  },
  {
   "cell_type": "code",
   "execution_count": 53,
   "id": "8a760cb5",
   "metadata": {},
   "outputs": [],
   "source": [
    "second_df.to_excel('data/Социалка.xlsx',index=False)"
   ]
  },
  {
   "cell_type": "code",
   "execution_count": 54,
   "id": "dff7236e",
   "metadata": {},
   "outputs": [],
   "source": [
    "third_df = pd.read_excel('data/2.xlsx')"
   ]
  },
  {
   "cell_type": "code",
   "execution_count": 56,
   "id": "1310949b",
   "metadata": {},
   "outputs": [],
   "source": [
    "third_df['Статус'] = random.choices(lst_status,k = third_df.shape[0])\n",
    "\n",
    "\n",
    "third_df['Подтверждающий документ'] = random.choice(doc_status)\n",
    "\n",
    "third_df['Серия документа'] = [generate_random_serires_doc() for i in range(third_df.shape[0])]\n",
    "\n",
    "third_df['Номер документа'] = [generate_number_doc() for i in range(third_df.shape[0])]\n",
    "third_df.to_excel('data/Социалка 2.xlsx',index=False)"
   ]
  },
  {
   "cell_type": "code",
   "execution_count": null,
   "id": "82d8674c",
   "metadata": {},
   "outputs": [],
   "source": []
  },
  {
   "cell_type": "code",
   "execution_count": null,
   "id": "53397c87",
   "metadata": {},
   "outputs": [],
   "source": []
  },
  {
   "cell_type": "code",
   "execution_count": null,
   "id": "5eaf990e",
   "metadata": {},
   "outputs": [],
   "source": []
  },
  {
   "cell_type": "code",
   "execution_count": null,
   "id": "aef3f7de",
   "metadata": {},
   "outputs": [],
   "source": []
  }
 ],
 "metadata": {
  "kernelspec": {
   "display_name": "Python 3 (ipykernel)",
   "language": "python",
   "name": "python3"
  },
  "language_info": {
   "codemirror_mode": {
    "name": "ipython",
    "version": 3
   },
   "file_extension": ".py",
   "mimetype": "text/x-python",
   "name": "python",
   "nbconvert_exporter": "python",
   "pygments_lexer": "ipython3",
   "version": "3.9.13"
  }
 },
 "nbformat": 4,
 "nbformat_minor": 5
}
