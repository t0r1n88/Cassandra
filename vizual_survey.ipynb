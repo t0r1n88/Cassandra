{
 "cells": [
  {
   "cell_type": "code",
   "execution_count": 584,
   "id": "a9ca1c0d",
   "metadata": {},
   "outputs": [],
   "source": [
    "import pandas as pd\n",
    "import openpyxl\n",
    "from openpyxl.utils.dataframe import dataframe_to_rows\n",
    "import time\n",
    "from openpyxl.chart.label import DataLabelList\n",
    "from openpyxl.chart import BarChart, Reference, PieChart, PieChart3D, Series\n"
   ]
  },
  {
   "cell_type": "code",
   "execution_count": 585,
   "id": "302bf470",
   "metadata": {},
   "outputs": [],
   "source": [
    "def count_multiple_answers(x):\n",
    "    \"\"\"\n",
    "    Функция для того чтобы подсчитать количество определенных работ\n",
    "    \"\"\"\n",
    "    # создаем список сплитя строку\n",
    "    temp_lst = x.split(',')\n",
    "    # Перебираем значения\n",
    "    for task in temp_lst:\n",
    "        if task in temp_dict:\n",
    "            temp_dict[task] += 1\n",
    "        else:\n",
    "            temp_dict[task] = 1\n"
   ]
  },
  {
   "cell_type": "code",
   "execution_count": null,
   "id": "c0fb1938",
   "metadata": {},
   "outputs": [],
   "source": []
  },
  {
   "cell_type": "code",
   "execution_count": 586,
   "id": "732e6b74",
   "metadata": {},
   "outputs": [],
   "source": [
    "# Считываем результат\n",
    "df = pd.read_excel('data/survey IT.xlsx')"
   ]
  },
  {
   "cell_type": "code",
   "execution_count": 587,
   "id": "4ea5bf1b",
   "metadata": {},
   "outputs": [
    {
     "data": {
      "text/plain": [
       "(4, 68)"
      ]
     },
     "execution_count": 587,
     "metadata": {},
     "output_type": "execute_result"
    }
   ],
   "source": [
    "df.shape"
   ]
  },
  {
   "cell_type": "code",
   "execution_count": 588,
   "id": "dc53485d",
   "metadata": {},
   "outputs": [],
   "source": [
    "# Удаляем лишние колонки\n",
    "df.drop(columns=['ID','Время создания','Время изменения'],inplace=True)"
   ]
  },
  {
   "cell_type": "code",
   "execution_count": 589,
   "id": "4afa492a",
   "metadata": {},
   "outputs": [],
   "source": [
    "# Создаем датафрейм с простыми вопросами, удаляя все колонки с /\n",
    "simple_df = df.drop(columns=[column for column in df.columns if '/' in column])\n",
    "# Создаем датафрейм с сложными вопросами удаляя все колонки где нет /\n",
    "multi_df = df.drop(columns=[column for column in df.columns if '/' not in column])\n"
   ]
  },
  {
   "cell_type": "code",
   "execution_count": null,
   "id": "0ea4e6f6",
   "metadata": {},
   "outputs": [],
   "source": []
  },
  {
   "cell_type": "code",
   "execution_count": 590,
   "id": "3eba60cb",
   "metadata": {},
   "outputs": [],
   "source": [
    "# Создаем список листов c одновариантными вопросами\n",
    "lst_single_answer_sheets =['Возраст','Причина','Количество человек','Количество оборудования','Возраст оборудования',\n",
    "                  'Сетевая инфраструктура','Компьютерная грамотность','Текущая зарплата','Знание UNIX',\n",
    "                  'Желаемая зарплата','Свободный график','Поддержка проектов','Свободное время',\n",
    "                  'Профессиональный рост','Идеи','Усталость','Неожиданные задачи','Частота благодарности','Предпочтения в работе',\n",
    "                  'Ценность работы','Что для вас заработк','Инициатива','Поиск работы','Руководство'] \n",
    "# Создаем список кортежей, где нулевой элемент это название листа, а первый элемент это вопрос по которому нужно отфильтровать колонки\n",
    "lst_multi_answer_sheets = [('Задачи','В чем заключается ваша работа?'),('Умения сисадмина','Что из перечисленного вы знаете и используете в своей работе как системный администратор?'),\n",
    "                           ('Языки программирования','Какие языки программирования вы знаете?')]"
   ]
  },
  {
   "cell_type": "code",
   "execution_count": null,
   "id": "5ec1b012",
   "metadata": {},
   "outputs": [],
   "source": []
  },
  {
   "cell_type": "code",
   "execution_count": 591,
   "id": "20bfa99e",
   "metadata": {},
   "outputs": [],
   "source": [
    "# Создаем документ openpyxl\n",
    "wb = openpyxl.Workbook()\n",
    "# Создаем листы для односложных вопросов\n",
    "for idx,name_sheet in enumerate(lst_single_answer_sheets):\n",
    "    wb.create_sheet(title=name_sheet,index=idx+2)\n",
    "    \n",
    "# Создаем листы для вопросов с несколькими вариантами\n",
    "for idx,name_sheet in enumerate(lst_multi_answer_sheets):\n",
    "    wb.create_sheet(title=name_sheet[0],index=idx)\n",
    "\n"
   ]
  },
  {
   "cell_type": "code",
   "execution_count": 592,
   "id": "62766d49",
   "metadata": {},
   "outputs": [],
   "source": [
    "for idx,value_tuple in enumerate(lst_multi_answer_sheets):\n",
    "    # распаковываем кортеж\n",
    "    name_sheet = value_tuple[0]\n",
    "    answer = value_tuple[1]\n",
    "    # очищаем датафрейм от лишнего\n",
    "    temp_df = multi_df.drop(columns=[column for column in multi_df.columns if answer not in column])\n",
    "   \n",
    "    # Транспонируем\n",
    "    temp_df =temp_df.transpose()\n",
    "     # Копируем датафрейм чтобы потом вычислить значения с нулем ответов\n",
    "    zero_mul_answers_df = temp_df.copy()\n",
    "    # Извлекаем индекс\n",
    "    zero_mul_answers_df = zero_mul_answers_df.reset_index()\n",
    "    \n",
    "    # получаем полный список\n",
    "    all_option_lst = zero_mul_answers_df['index'].apply(lambda x:x.split(' / ')[1]).to_list()\n",
    "\n",
    "    \n",
    "\n",
    "\n",
    "    temp_df.fillna('temp',inplace=True)\n",
    "\n",
    "    # Добавляем запятую только для задач\n",
    "    temp_df = temp_df.applymap(lambda x:x+',' if 'temp' not in x else x)\n",
    "\n",
    "    temp_out_df = temp_df.sum(axis=0).to_frame()\n",
    "\n",
    "    # Удаляем лишнее\n",
    "    temp_out_df[0] = temp_out_df[0].apply(lambda x:x.replace('temp',''))\n",
    "    #очищаем от последней запятой\n",
    "    temp_out_df[0] = temp_out_df[0].apply(lambda x: x[:-1])\n",
    "    # Создаем словарь для подсчета встречаемых задач\n",
    "    temp_dict = dict()\n",
    "    #Считаем\n",
    "    temp_out_df[0].apply(count_multiple_answers)\n",
    "\n",
    "\n",
    "    # Сортируем по значению\n",
    "    sorted_tuple = sorted(temp_dict.items(),key=lambda x:x[1],reverse=True)\n",
    "    # обратно в словарь\n",
    "    sorted_temp_dict = dict(sorted_tuple)\n",
    "\n",
    "    itog_df=pd.DataFrame(data=sorted_temp_dict.items(),columns=['Значение','Количество'])\n",
    "        # Добавляем нулевые варианты\n",
    "    current_answers_lst = itog_df['Значение'].to_list()\n",
    "    # Получаем разницу 2 списков\n",
    "    empty_answers = list(set(all_option_lst).symmetric_difference(set(current_answers_lst)))\n",
    "    # Создаем датафрейм\n",
    "    zero_df = pd.DataFrame(data=empty_answers,columns=['Значение'])\n",
    "    zero_df['Количество'] = 0\n",
    "    \n",
    "    # Добавляем к основному\n",
    "    itog_df = pd.concat([itog_df,zero_df],axis=0)\n",
    "\n",
    "    #Добавляем долю в процентах\n",
    "    itog_df['Доля в %'] = (((itog_df['Количество'] / df.shape[0])*100).round(0)).astype(int)\n",
    "\n",
    "        #Делаем заголовок\n",
    "   \n",
    "    wb[name_sheet]['A1'] = name_sheet\n",
    "    for row in dataframe_to_rows(itog_df, index=False, header=True):\n",
    "        wb[name_sheet].append(row)\n",
    "    wb[name_sheet].column_dimensions['A'].width = 40\n",
    "    wb[name_sheet].column_dimensions['B'].width = 15\n",
    "    \n",
    "\n",
    "    \n",
    "\n",
    "    "
   ]
  },
  {
   "cell_type": "code",
   "execution_count": null,
   "id": "d5ef9b4a",
   "metadata": {},
   "outputs": [],
   "source": []
  },
  {
   "cell_type": "code",
   "execution_count": null,
   "id": "7148d59c",
   "metadata": {},
   "outputs": [],
   "source": []
  },
  {
   "cell_type": "code",
   "execution_count": 593,
   "id": "135fddeb",
   "metadata": {},
   "outputs": [],
   "source": [
    "#Обрабатываем данные\n",
    "for idx,name_sheet in enumerate(lst_single_answer_sheets):\n",
    "    temp_df = simple_df.iloc[:,idx].value_counts().to_frame().reset_index()\n",
    "    \n",
    "    temp_df.columns = ['Вариант ответа','Количество']\n",
    "    #Высчитываем долю\n",
    "    temp_df['Доля в %'] = ((temp_df['Количество'] / temp_df['Количество'].sum()).round(2) * 100)\n",
    "    \n",
    "    #Делаем заголовок\n",
    "    wb[name_sheet]['A1'] = simple_df.columns[idx]\n",
    "    for row in dataframe_to_rows(temp_df, index=False, header=True):\n",
    "        wb[name_sheet].append(row)\n",
    "    \n",
    "      # Рисуем диаграмму\n",
    "    #выбираем значения\n",
    "    labels = Reference(wb[name_sheet],min_col=1,min_row=3,max_row=temp_df.shape[0]+2)\n",
    "    values = Reference(wb[name_sheet],min_col=2,min_row=2,max_row=temp_df.shape[0]+2)\n",
    "    data_val = Reference(wb[name_sheet],min_col=1,min_row=3,max_row=temp_df.shape[0]+2)\n",
    "    # Создаем объект диаграммы\n",
    "    pie_chart = PieChart()\n",
    "    pie_chart.add_data(values,titles_from_data=True)\n",
    "    pie_chart.set_categories(labels)\n",
    "    \n",
    "    # Делаем отображение числовых данных на диаграмме\n",
    "    series = Series(data_val, title='Series 1')\n",
    "    pie_chart.append(series)\n",
    "    s1 = pie_chart.series[0]\n",
    "\n",
    "    s1.dLbls = DataLabelList()\n",
    "    s1.dLbls.showVal = True\n",
    "    \n",
    "    \n",
    "    pie_chart.title = f\"{name_sheet}\"\n",
    "    #Привязываем диаграмму к ячейке А15\n",
    "    wb[name_sheet].add_chart(pie_chart,'A15')\n",
    "    # Определяем размеры диаграммы\n",
    "\n",
    "    pie_chart.width =20\n",
    "    pie_chart.height = 5\n",
    "    \n",
    "    wb[name_sheet].column_dimensions['A'].width = 40\n",
    "    wb[name_sheet].column_dimensions['B'].width = 15\n",
    " \n",
    "    \n"
   ]
  },
  {
   "cell_type": "code",
   "execution_count": null,
   "id": "b82ac1b8",
   "metadata": {},
   "outputs": [],
   "source": []
  },
  {
   "cell_type": "code",
   "execution_count": null,
   "id": "fdcb95b7",
   "metadata": {},
   "outputs": [],
   "source": []
  },
  {
   "cell_type": "code",
   "execution_count": null,
   "id": "af3855d9",
   "metadata": {},
   "outputs": [],
   "source": []
  },
  {
   "cell_type": "code",
   "execution_count": 594,
   "id": "685db511",
   "metadata": {},
   "outputs": [],
   "source": [
    "#Удаялем лишний лист\n",
    "del wb['Sheet']\n",
    "current_time = time.strftime('%H_%M_%S')\n",
    "wb.save(f'Итоги опроса от {current_time}.xlsx')"
   ]
  },
  {
   "cell_type": "code",
   "execution_count": null,
   "id": "ae973c04",
   "metadata": {},
   "outputs": [],
   "source": []
  },
  {
   "cell_type": "code",
   "execution_count": null,
   "id": "3bf2ae6d",
   "metadata": {},
   "outputs": [],
   "source": []
  }
 ],
 "metadata": {
  "kernelspec": {
   "display_name": "Python 3 (ipykernel)",
   "language": "python",
   "name": "python3"
  },
  "language_info": {
   "codemirror_mode": {
    "name": "ipython",
    "version": 3
   },
   "file_extension": ".py",
   "mimetype": "text/x-python",
   "name": "python",
   "nbconvert_exporter": "python",
   "pygments_lexer": "ipython3",
   "version": "3.9.13"
  }
 },
 "nbformat": 4,
 "nbformat_minor": 5
}
