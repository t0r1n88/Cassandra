{
 "cells": [
  {
   "cell_type": "code",
   "execution_count": 224,
   "id": "29bc6c5a",
   "metadata": {},
   "outputs": [],
   "source": [
    "import pandas as pd\n",
    "import openpyxl\n",
    "from openpyxl.utils.dataframe import dataframe_to_rows\n",
    "import time\n",
    "import seaborn as sns\n",
    "import matplotlib.pyplot as plt\n",
    "%matplotlib inline\n",
    "%config InlineBackend.figure_format = 'svg'\n",
    "\n",
    "from openpyxl.chart.label import DataLabelList\n",
    "from openpyxl.chart import BarChart, Reference, PieChart, PieChart3D, Series\n"
   ]
  },
  {
   "cell_type": "code",
   "execution_count": 225,
   "id": "361d4422",
   "metadata": {},
   "outputs": [],
   "source": [
    "# Считываем результат\n",
    "df = pd.read_excel('data/survey IT.xlsx')"
   ]
  },
  {
   "cell_type": "code",
   "execution_count": 226,
   "id": "76441293",
   "metadata": {},
   "outputs": [
    {
     "data": {
      "text/plain": [
       "(3, 64)"
      ]
     },
     "execution_count": 226,
     "metadata": {},
     "output_type": "execute_result"
    }
   ],
   "source": [
    "df.shape"
   ]
  },
  {
   "cell_type": "code",
   "execution_count": 227,
   "id": "290c846d",
   "metadata": {},
   "outputs": [],
   "source": [
    "# Создаем датафрейм с простыми вопросами, удаляя все колонки с /\n",
    "simple_df = df.drop(columns=[column for column in df.columns if '/' in column])\n",
    "simple_df.drop(columns=['ID','Время создания','Время изменения'],inplace=True)"
   ]
  },
  {
   "cell_type": "code",
   "execution_count": 228,
   "id": "9fea9826",
   "metadata": {},
   "outputs": [
    {
     "data": {
      "text/plain": [
       "Index(['Сколько вам лет?', 'Почему вы стали работать в этой сфере?',\n",
       "       'Сколько человек в вашем IT-отделе вашей организации',\n",
       "       'Сколько единиц компьютеров и ноутбуков (включая учебные), оргтехники(принтеры,МФУ,сканеры и т.п.) в вашей организации?',\n",
       "       'Средний возраст компьютеров и ноутбуков которые вы обслуживаете',\n",
       "       'Как вы оцениваете состояние сетевой инфраструктуры(Интернет, состояние ЛВС, маршрутизаторы,коммутаторы) вашей организации?',\n",
       "       'Как вы оцениваете общий уровень компьютерной грамотности в вашей организации?',\n",
       "       'Уровень вашей зарплаты в организации, считая все ваши ставки',\n",
       "       'Насколько хорошо вы знаете UNIX-системы',\n",
       "       'Сколько по вашему мнению вы должны получать за вашу работу в организации?',\n",
       "       'Как сильно изменится ваше желание работать в организации на текущей должности, если вы сможете работать по свободному графику(сокращенный рабочий день, сокращенная рабочая неделя,удаленка и т.п.)?',\n",
       "       'Как сильно изменится ваше желание работать в организации на текущей должности, если организация поможет вам реализовывать свои проекты,стартапы.',\n",
       "       'Есть ли у вас достаточное количество отдыха и свободного времени вне работы?',\n",
       "       'Есть ли в вашей организации возможности для профессионального роста и изучения новых технологий?',\n",
       "       'Как часто ваши идеи и предложения берет во внимание руководство вашей организации?',\n",
       "       'Насколько сильно вы устаете (физически,умственно и морально) на работе?',\n",
       "       'Как часто вам приходится менять свои планы из-за неожиданных задач, которые вам дает руководство? Например, сдать срочный отчет о котором вас никто не предупредил, настроить срочную видеоконференцию,  подготовить справку для руководства и т.п.)\"',\n",
       "       'Как часто вас хвалят и благодарят за выполненную работу?',\n",
       "       'Как Вы предпочитаете работать?',\n",
       "       'Что Вы больше всего цените в своей работе?',\n",
       "       'Попробуйте определить, что для Вас означает Ваш заработок?',\n",
       "       'Как Вы считаете, почему в процессе работы люди проявляют инициативу, вносят  различные предложения?',\n",
       "       'Представьте, пожалуйста, что Вы сейчас ищете работу. Вам предлагают несколько работ.  Какую из них Вы выберете?',\n",
       "       'Если Вы не являетесь руководителем, то хотели бы Вы им стать?'],\n",
       "      dtype='object')"
      ]
     },
     "execution_count": 228,
     "metadata": {},
     "output_type": "execute_result"
    }
   ],
   "source": [
    "simple_df.columns"
   ]
  },
  {
   "cell_type": "code",
   "execution_count": 229,
   "id": "42aaa929",
   "metadata": {},
   "outputs": [],
   "source": [
    "# Создаем список листов c одновариантными вопросами\n",
    "lst_single_answer_sheets =['Возраст','Причина','Количество человек','Количество оборудования','Возраст оборудования',\n",
    "                  'Сетевая инфраструктура','Компьютерная грамотность','Текущая зарплата','Знание UNIX',\n",
    "                  'Желаемая зарплата','Свободный график','Поддержка проектов','Свободное время',\n",
    "                  'Профессиональный рост','Идеи','Усталость','Неожиданные задачи','Частота благодарности','Предпочтения в работе',\n",
    "                  'Ценность работы','Что для вас заработк','Инициатива','Поиск работы','Руководство'] \n",
    "lst_multi_answer_sheets = ['Задачи','Умения сисадмина','Языки программирования',]"
   ]
  },
  {
   "cell_type": "code",
   "execution_count": null,
   "id": "e77bff0d",
   "metadata": {},
   "outputs": [],
   "source": []
  },
  {
   "cell_type": "code",
   "execution_count": 230,
   "id": "1c94af68",
   "metadata": {},
   "outputs": [],
   "source": [
    "# Создаем документ openpyxl\n",
    "wb = openpyxl.Workbook()\n",
    "# Создаем листы для односложных вопросов\n",
    "for idx,name_sheet in enumerate(lst_single_answer_sheets):\n",
    "    wb.create_sheet(title=name_sheet,index=idx+2)\n",
    "    \n",
    "# Создаем листы для вопросов с несколькими вариантами\n",
    "for idx,name_sheet in enumerate(lst_multi_answer_sheets):\n",
    "    wb.create_sheet(title=name_sheet,index=idx)\n",
    "\n"
   ]
  },
  {
   "cell_type": "code",
   "execution_count": 231,
   "id": "343463f2",
   "metadata": {},
   "outputs": [
    {
     "ename": "TypeError",
     "evalue": "expected string or bytes-like object",
     "output_type": "error",
     "traceback": [
      "\u001b[1;31m---------------------------------------------------------------------------\u001b[0m",
      "\u001b[1;31mTypeError\u001b[0m                                 Traceback (most recent call last)",
      "\u001b[1;32m~\\AppData\\Local\\Temp\\ipykernel_12508\\645201414.py\u001b[0m in \u001b[0;36m<module>\u001b[1;34m\u001b[0m\n\u001b[0;32m     21\u001b[0m     \u001b[0mpie_chart\u001b[0m\u001b[1;33m.\u001b[0m\u001b[0mset_categories\u001b[0m\u001b[1;33m(\u001b[0m\u001b[0mlabels\u001b[0m\u001b[1;33m)\u001b[0m\u001b[1;33m\u001b[0m\u001b[1;33m\u001b[0m\u001b[0m\n\u001b[0;32m     22\u001b[0m \u001b[1;33m\u001b[0m\u001b[0m\n\u001b[1;32m---> 23\u001b[1;33m     \u001b[0mseries\u001b[0m \u001b[1;33m=\u001b[0m \u001b[0mSeries\u001b[0m\u001b[1;33m(\u001b[0m\u001b[0mtemp_df\u001b[0m\u001b[1;33m[\u001b[0m\u001b[1;34m'Доля в %'\u001b[0m\u001b[1;33m]\u001b[0m\u001b[1;33m,\u001b[0m \u001b[0mtitle\u001b[0m\u001b[1;33m=\u001b[0m\u001b[1;34m'Series 1'\u001b[0m\u001b[1;33m)\u001b[0m\u001b[1;33m\u001b[0m\u001b[1;33m\u001b[0m\u001b[0m\n\u001b[0m\u001b[0;32m     24\u001b[0m     \u001b[0mpie_chart\u001b[0m\u001b[1;33m.\u001b[0m\u001b[0mappend\u001b[0m\u001b[1;33m(\u001b[0m\u001b[0mseries\u001b[0m\u001b[1;33m)\u001b[0m\u001b[1;33m\u001b[0m\u001b[1;33m\u001b[0m\u001b[0m\n\u001b[0;32m     25\u001b[0m     \u001b[0mpie_chart\u001b[0m\u001b[1;33m.\u001b[0m\u001b[0mtitle\u001b[0m \u001b[1;33m=\u001b[0m \u001b[1;34mf\"{name_sheet}\"\u001b[0m\u001b[1;33m\u001b[0m\u001b[1;33m\u001b[0m\u001b[0m\n",
      "\u001b[1;32m~\\anaconda3\\lib\\site-packages\\openpyxl\\chart\\series_factory.py\u001b[0m in \u001b[0;36mSeriesFactory\u001b[1;34m(values, xvalues, zvalues, title, title_from_data)\u001b[0m\n\u001b[0;32m     13\u001b[0m \u001b[1;33m\u001b[0m\u001b[0m\n\u001b[0;32m     14\u001b[0m     \u001b[1;32mif\u001b[0m \u001b[1;32mnot\u001b[0m \u001b[0misinstance\u001b[0m\u001b[1;33m(\u001b[0m\u001b[0mvalues\u001b[0m\u001b[1;33m,\u001b[0m \u001b[0mReference\u001b[0m\u001b[1;33m)\u001b[0m\u001b[1;33m:\u001b[0m\u001b[1;33m\u001b[0m\u001b[1;33m\u001b[0m\u001b[0m\n\u001b[1;32m---> 15\u001b[1;33m         \u001b[0mvalues\u001b[0m \u001b[1;33m=\u001b[0m \u001b[0mReference\u001b[0m\u001b[1;33m(\u001b[0m\u001b[0mrange_string\u001b[0m\u001b[1;33m=\u001b[0m\u001b[0mvalues\u001b[0m\u001b[1;33m)\u001b[0m\u001b[1;33m\u001b[0m\u001b[1;33m\u001b[0m\u001b[0m\n\u001b[0m\u001b[0;32m     16\u001b[0m \u001b[1;33m\u001b[0m\u001b[0m\n\u001b[0;32m     17\u001b[0m     \u001b[1;32mif\u001b[0m \u001b[0mtitle_from_data\u001b[0m\u001b[1;33m:\u001b[0m\u001b[1;33m\u001b[0m\u001b[1;33m\u001b[0m\u001b[0m\n",
      "\u001b[1;32m~\\anaconda3\\lib\\site-packages\\openpyxl\\chart\\reference.py\u001b[0m in \u001b[0;36m__init__\u001b[1;34m(self, worksheet, min_col, min_row, max_col, max_row, range_string)\u001b[0m\n\u001b[0;32m     46\u001b[0m                  ):\n\u001b[0;32m     47\u001b[0m         \u001b[1;32mif\u001b[0m \u001b[0mrange_string\u001b[0m \u001b[1;32mis\u001b[0m \u001b[1;32mnot\u001b[0m \u001b[1;32mNone\u001b[0m\u001b[1;33m:\u001b[0m\u001b[1;33m\u001b[0m\u001b[1;33m\u001b[0m\u001b[0m\n\u001b[1;32m---> 48\u001b[1;33m             \u001b[0msheetname\u001b[0m\u001b[1;33m,\u001b[0m \u001b[0mboundaries\u001b[0m \u001b[1;33m=\u001b[0m \u001b[0mrange_to_tuple\u001b[0m\u001b[1;33m(\u001b[0m\u001b[0mrange_string\u001b[0m\u001b[1;33m)\u001b[0m\u001b[1;33m\u001b[0m\u001b[1;33m\u001b[0m\u001b[0m\n\u001b[0m\u001b[0;32m     49\u001b[0m             \u001b[0mmin_col\u001b[0m\u001b[1;33m,\u001b[0m \u001b[0mmin_row\u001b[0m\u001b[1;33m,\u001b[0m \u001b[0mmax_col\u001b[0m\u001b[1;33m,\u001b[0m \u001b[0mmax_row\u001b[0m \u001b[1;33m=\u001b[0m \u001b[0mboundaries\u001b[0m\u001b[1;33m\u001b[0m\u001b[1;33m\u001b[0m\u001b[0m\n\u001b[0;32m     50\u001b[0m             \u001b[0mworksheet\u001b[0m \u001b[1;33m=\u001b[0m \u001b[0mDummyWorksheet\u001b[0m\u001b[1;33m(\u001b[0m\u001b[0msheetname\u001b[0m\u001b[1;33m)\u001b[0m\u001b[1;33m\u001b[0m\u001b[1;33m\u001b[0m\u001b[0m\n",
      "\u001b[1;32m~\\anaconda3\\lib\\site-packages\\openpyxl\\utils\\cell.cp39-win_amd64.pyd\u001b[0m in \u001b[0;36mopenpyxl.utils.cell.range_to_tuple\u001b[1;34m()\u001b[0m\n",
      "\u001b[1;31mTypeError\u001b[0m: expected string or bytes-like object"
     ]
    }
   ],
   "source": [
    "#Обрабатываем данные\n",
    "for idx,name_sheet in enumerate(lst_single_answer_sheets):\n",
    "    temp_df = simple_df.iloc[:,idx].value_counts().to_frame().reset_index()\n",
    "    \n",
    "    temp_df.columns = ['Возраст','Количество']\n",
    "    #Высчитываем долю\n",
    "    temp_df['Доля в %'] = ((temp_df['Количество'] / temp_df['Количество'].sum()).round(2) * 100)\n",
    "    \n",
    "    #Делаем заголовок\n",
    "    wb[name_sheet]['A1'] = simple_df.columns[idx]\n",
    "    for row in dataframe_to_rows(temp_df, index=False, header=True):\n",
    "        wb[name_sheet].append(row)\n",
    "    \n",
    "      # Рисуем диаграмму\n",
    "    #выбираем значения\n",
    "    labels = Reference(wb[name_sheet],min_col=1,min_row=3,max_row=temp_df.shape[0]+2)\n",
    "    values = Reference(wb[name_sheet],min_col=3,min_row=2,max_row=temp_df.shape[0]+2)\n",
    "    # Создаем объект диаграммы\n",
    "    pie_chart = PieChart()\n",
    "    pie_chart.add_data(values,titles_from_data=True)\n",
    "    pie_chart.set_categories(labels)\n",
    "    \n",
    "    series = Series(temp_df['Доля в %'], title='Series 1')\n",
    "    pie_chart.append(series)\n",
    "    pie_chart.title = f\"{name_sheet}\"\n",
    "    #Привязываем диаграмму к ячейке А15\n",
    "    wb[name_sheet].add_chart(pie_chart,'A15')\n",
    "    # Определяем размеры диаграммы\n",
    "\n",
    "    pie_chart.width =20\n",
    "    pie_chart.height = 5\n",
    "    \n",
    "    wb[name_sheet].column_dimensions['A'].width = 40\n",
    "    wb[name_sheet].column_dimensions['B'].width = 15\n",
    " \n",
    "    \n"
   ]
  },
  {
   "cell_type": "code",
   "execution_count": null,
   "id": "53cded5b",
   "metadata": {},
   "outputs": [],
   "source": []
  },
  {
   "cell_type": "code",
   "execution_count": null,
   "id": "a3590244",
   "metadata": {},
   "outputs": [],
   "source": []
  },
  {
   "cell_type": "code",
   "execution_count": null,
   "id": "cfc17d51",
   "metadata": {},
   "outputs": [],
   "source": []
  },
  {
   "cell_type": "code",
   "execution_count": null,
   "id": "190f7ae2",
   "metadata": {},
   "outputs": [],
   "source": [
    "#Удаялем лишний лист\n",
    "del wb['Sheet']\n",
    "current_time = time.strftime('%H_%M_%S')\n",
    "wb.save(f'Итоги опроса от {current_time}.xlsx')"
   ]
  },
  {
   "cell_type": "code",
   "execution_count": null,
   "id": "802ab527",
   "metadata": {},
   "outputs": [],
   "source": []
  },
  {
   "cell_type": "code",
   "execution_count": null,
   "id": "fa38f964",
   "metadata": {},
   "outputs": [],
   "source": []
  }
 ],
 "metadata": {
  "kernelspec": {
   "display_name": "Python 3 (ipykernel)",
   "language": "python",
   "name": "python3"
  },
  "language_info": {
   "codemirror_mode": {
    "name": "ipython",
    "version": 3
   },
   "file_extension": ".py",
   "mimetype": "text/x-python",
   "name": "python",
   "nbconvert_exporter": "python",
   "pygments_lexer": "ipython3",
   "version": "3.9.13"
  }
 },
 "nbformat": 4,
 "nbformat_minor": 5
}
