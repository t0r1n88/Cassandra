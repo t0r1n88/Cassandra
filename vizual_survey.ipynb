{
 "cells": [
  {
   "cell_type": "code",
   "execution_count": 96,
   "id": "8cd08f2d",
   "metadata": {},
   "outputs": [],
   "source": [
    "import pandas as pd\n",
    "import openpyxl\n",
    "from openpyxl.utils.dataframe import dataframe_to_rows\n",
    "import time\n",
    "import seaborn as sns\n",
    "import matplotlib.pyplot as plt\n",
    "%matplotlib inline\n",
    "%config InlineBackend.figure_format = 'svg'\n"
   ]
  },
  {
   "cell_type": "code",
   "execution_count": 97,
   "id": "709826de",
   "metadata": {},
   "outputs": [],
   "source": [
    "# Считываем результат\n",
    "df = pd.read_excel('data/survey IT.xlsx')"
   ]
  },
  {
   "cell_type": "code",
   "execution_count": 98,
   "id": "d6b596af",
   "metadata": {},
   "outputs": [
    {
     "data": {
      "text/plain": [
       "(3, 64)"
      ]
     },
     "execution_count": 98,
     "metadata": {},
     "output_type": "execute_result"
    }
   ],
   "source": [
    "df.shape"
   ]
  },
  {
   "cell_type": "code",
   "execution_count": 99,
   "id": "bd2d9554",
   "metadata": {},
   "outputs": [],
   "source": [
    "# Создаем датафрейм с простыми вопросами, удаляя все колонки с /\n",
    "simple_df = df.drop(columns=[column for column in df.columns if '/' in column])\n",
    "simple_df.drop(columns=['ID','Время создания','Время изменения'],inplace=True)"
   ]
  },
  {
   "cell_type": "code",
   "execution_count": 100,
   "id": "baa22a57",
   "metadata": {},
   "outputs": [
    {
     "data": {
      "text/plain": [
       "Index(['Сколько вам лет?', 'Почему вы стали работать в этой сфере?',\n",
       "       'Сколько человек в вашем IT-отделе вашей организации',\n",
       "       'Сколько единиц компьютеров и ноутбуков (включая учебные), оргтехники(принтеры,МФУ,сканеры и т.п.) в вашей организации?',\n",
       "       'Средний возраст компьютеров и ноутбуков которые вы обслуживаете',\n",
       "       'Как вы оцениваете состояние сетевой инфраструктуры(Интернет, состояние ЛВС, маршрутизаторы,коммутаторы) вашей организации?',\n",
       "       'Как вы оцениваете общий уровень компьютерной грамотности в вашей организации?',\n",
       "       'Уровень вашей зарплаты в организации, считая все ваши ставки',\n",
       "       'Насколько хорошо вы знаете UNIX-системы',\n",
       "       'Сколько по вашему мнению вы должны получать за вашу работу в организации?',\n",
       "       'Как сильно изменится ваше желание работать в организации на текущей должности, если вы сможете работать по свободному графику(сокращенный рабочий день, сокращенная рабочая неделя,удаленка и т.п.)?',\n",
       "       'Как сильно изменится ваше желание работать в организации на текущей должности, если организация поможет вам реализовывать свои проекты,стартапы.',\n",
       "       'Есть ли у вас достаточное количество отдыха и свободного времени вне работы?',\n",
       "       'Есть ли в вашей организации возможности для профессионального роста и изучения новых технологий?',\n",
       "       'Как часто ваши идеи и предложения берет во внимание руководство вашей организации?',\n",
       "       'Насколько сильно вы устаете (физически,умственно и морально) на работе?',\n",
       "       'Как часто вам приходится менять свои планы из-за неожиданных задач, которые вам дает руководство? Например, сдать срочный отчет о котором вас никто не предупредил, настроить срочную видеоконференцию,  подготовить справку для руководства и т.п.)\"',\n",
       "       'Как часто вас хвалят и благодарят за выполненную работу?',\n",
       "       'Как Вы предпочитаете работать?',\n",
       "       'Что Вы больше всего цените в своей работе?',\n",
       "       'Попробуйте определить, что для Вас означает Ваш заработок?',\n",
       "       'Как Вы считаете, почему в процессе работы люди проявляют инициативу, вносят  различные предложения?',\n",
       "       'Представьте, пожалуйста, что Вы сейчас ищете работу. Вам предлагают несколько работ.  Какую из них Вы выберете?',\n",
       "       'Если Вы не являетесь руководителем, то хотели бы Вы им стать?'],\n",
       "      dtype='object')"
      ]
     },
     "execution_count": 100,
     "metadata": {},
     "output_type": "execute_result"
    }
   ],
   "source": [
    "simple_df.columns"
   ]
  },
  {
   "cell_type": "code",
   "execution_count": 101,
   "id": "2d0074e0",
   "metadata": {},
   "outputs": [],
   "source": [
    "# Создаем список листов c одновариантными вопросами\n",
    "lst_single_answer_sheets =['Возраст','Причина','Количество человек','Количество оборудования','Возраст оборудования',\n",
    "                  'Сетевая инфраструктура','Компьютерная грамотность','Текущая зарплата','Знание UNIX',\n",
    "                  'Желаемая зарплата','Свободный график','Поддержка проектов','Свободное время',\n",
    "                  'Профессиональный рост','Идеи','Усталость','Неожиданные задачи','Частота благодарности','Предпочтения в работе',\n",
    "                  'Ценность работы','Что для вас заработк','Инициатива','Поиск работы','Руководство'] \n",
    "lst_multi_answer_sheets = ['Задачи','Умения сисадмина','Языки программирования',]"
   ]
  },
  {
   "cell_type": "code",
   "execution_count": null,
   "id": "149efd9e",
   "metadata": {},
   "outputs": [],
   "source": []
  },
  {
   "cell_type": "code",
   "execution_count": 102,
   "id": "7adba92f",
   "metadata": {},
   "outputs": [],
   "source": [
    "# Создаем документ openpyxl\n",
    "wb = openpyxl.Workbook()\n",
    "# Создаем листы для односложных вопросов\n",
    "for idx,name_sheet in enumerate(lst_single_answer_sheets):\n",
    "    wb.create_sheet(title=name_sheet,index=idx+2)\n",
    "    \n",
    "# Создаем листы для вопросов с несколькими вариантами\n",
    "for idx,name_sheet in enumerate(lst_multi_answer_sheets):\n",
    "    wb.create_sheet(title=name_sheet,index=idx)\n",
    "\n"
   ]
  },
  {
   "cell_type": "code",
   "execution_count": 103,
   "id": "a9ea25f4",
   "metadata": {},
   "outputs": [],
   "source": [
    "#Обрабатываем данные\n",
    "for idx,name_sheet in enumerate(lst_single_answer_sheets):\n",
    "    temp_df = simple_df.iloc[:,idx].value_counts().to_frame().reset_index()\n",
    "    \n",
    "    temp_df.columns = ['Возраст','Количество']\n",
    "    #Высчитываем долю\n",
    "    temp_df['Доля в %'] = ((temp_df['Количество'] / temp_df['Количество'].sum()).round(2) * 100)\n",
    "    #Добавляем знак процента\n",
    "    temp_df['Доля в %'] = temp_df['Доля в %'].apply(lambda x: str(x) +'%')\n",
    "    \n",
    "    #Делаем заголовок\n",
    "    wb[name_sheet]['A1'] = simple_df.columns[idx]\n",
    "    for row in dataframe_to_rows(temp_df, index=False, header=True):\n",
    "        wb[name_sheet].append(row)\n",
    "    wb[name_sheet].column_dimensions['A'].width = 40\n",
    "    wb[name_sheet].column_dimensions['B'].width = 15"
   ]
  },
  {
   "cell_type": "code",
   "execution_count": null,
   "id": "52459c21",
   "metadata": {},
   "outputs": [],
   "source": []
  },
  {
   "cell_type": "code",
   "execution_count": null,
   "id": "e50afb8b",
   "metadata": {},
   "outputs": [],
   "source": []
  },
  {
   "cell_type": "code",
   "execution_count": null,
   "id": "80878099",
   "metadata": {},
   "outputs": [],
   "source": []
  },
  {
   "cell_type": "code",
   "execution_count": 104,
   "id": "1b3c5796",
   "metadata": {},
   "outputs": [],
   "source": [
    "#Удаялем лишний лист\n",
    "del wb['Sheet']\n",
    "current_time = time.strftime('%H_%M_%S')\n",
    "wb.save(f'Итоги опроса от {current_time}.xlsx')"
   ]
  },
  {
   "cell_type": "code",
   "execution_count": null,
   "id": "78e6e05d",
   "metadata": {},
   "outputs": [],
   "source": []
  },
  {
   "cell_type": "code",
   "execution_count": null,
   "id": "4d0a9f9c",
   "metadata": {},
   "outputs": [],
   "source": []
  }
 ],
 "metadata": {
  "kernelspec": {
   "display_name": "Python 3 (ipykernel)",
   "language": "python",
   "name": "python3"
  },
  "language_info": {
   "codemirror_mode": {
    "name": "ipython",
    "version": 3
   },
   "file_extension": ".py",
   "mimetype": "text/x-python",
   "name": "python",
   "nbconvert_exporter": "python",
   "pygments_lexer": "ipython3",
   "version": "3.9.13"
  }
 },
 "nbformat": 4,
 "nbformat_minor": 5
}
