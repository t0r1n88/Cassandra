{
 "cells": [
  {
   "cell_type": "code",
   "execution_count": 562,
   "id": "664dd3f4",
   "metadata": {},
   "outputs": [],
   "source": [
    "import pandas as pd\n",
    "import openpyxl\n",
    "from openpyxl.utils.dataframe import dataframe_to_rows\n",
    "import time\n",
    "import seaborn as sns\n",
    "import matplotlib.pyplot as plt\n",
    "%matplotlib inline\n",
    "%config InlineBackend.figure_format = 'svg'\n",
    "\n",
    "from openpyxl.chart.label import DataLabelList\n",
    "from openpyxl.chart import BarChart, Reference, PieChart, PieChart3D, Series\n"
   ]
  },
  {
   "cell_type": "code",
   "execution_count": 563,
   "id": "718ca80e",
   "metadata": {},
   "outputs": [],
   "source": [
    "def count_multiple_answers(x):\n",
    "    \"\"\"\n",
    "    Функция для того чтобы подсчитать количество определенных работ\n",
    "    \"\"\"\n",
    "    # создаем список сплитя строку\n",
    "    temp_lst = x.split(',')\n",
    "    # Перебираем значения\n",
    "    for task in temp_lst:\n",
    "        if task in temp_dict:\n",
    "            temp_dict[task] += 1\n",
    "        else:\n",
    "            temp_dict[task] = 1\n"
   ]
  },
  {
   "cell_type": "code",
   "execution_count": null,
   "id": "0148c3d2",
   "metadata": {},
   "outputs": [],
   "source": []
  },
  {
   "cell_type": "code",
   "execution_count": 564,
   "id": "03168520",
   "metadata": {},
   "outputs": [],
   "source": [
    "# Считываем результат\n",
    "df = pd.read_excel('data/survey IT.xlsx')"
   ]
  },
  {
   "cell_type": "code",
   "execution_count": 565,
   "id": "7815376a",
   "metadata": {},
   "outputs": [
    {
     "data": {
      "text/plain": [
       "(3, 65)"
      ]
     },
     "execution_count": 565,
     "metadata": {},
     "output_type": "execute_result"
    }
   ],
   "source": [
    "df.shape"
   ]
  },
  {
   "cell_type": "code",
   "execution_count": 566,
   "id": "292bac10",
   "metadata": {},
   "outputs": [],
   "source": [
    "# Удаляем лишние колонки\n",
    "df.drop(columns=['ID','Время создания','Время изменения'],inplace=True)"
   ]
  },
  {
   "cell_type": "code",
   "execution_count": 567,
   "id": "a2c2e500",
   "metadata": {},
   "outputs": [],
   "source": [
    "# Создаем датафрейм с простыми вопросами, удаляя все колонки с /\n",
    "simple_df = df.drop(columns=[column for column in df.columns if '/' in column])\n",
    "# Создаем датафрейм с сложными вопросами удаляя все колонки где нет /\n",
    "multi_df = df.drop(columns=[column for column in df.columns if '/' not in column])\n"
   ]
  },
  {
   "cell_type": "code",
   "execution_count": null,
   "id": "3bda54a9",
   "metadata": {},
   "outputs": [],
   "source": []
  },
  {
   "cell_type": "code",
   "execution_count": 568,
   "id": "e9c15ede",
   "metadata": {},
   "outputs": [],
   "source": [
    "# Создаем список листов c одновариантными вопросами\n",
    "lst_single_answer_sheets =['Возраст','Причина','Количество человек','Количество оборудования','Возраст оборудования',\n",
    "                  'Сетевая инфраструктура','Компьютерная грамотность','Текущая зарплата','Знание UNIX',\n",
    "                  'Желаемая зарплата','Свободный график','Поддержка проектов','Свободное время',\n",
    "                  'Профессиональный рост','Идеи','Усталость','Неожиданные задачи','Частота благодарности','Предпочтения в работе',\n",
    "                  'Ценность работы','Что для вас заработк','Инициатива','Поиск работы','Руководство'] \n",
    "# Создаем список кортежей, где нулевой элемент это название листа, а первый элемент это вопрос по которому нужно отфильтровать колонки\n",
    "lst_multi_answer_sheets = [('Задачи','В чем заключается ваша работа?'),('Умения сисадмина','Что из перечисленного вы знаете и используете в своей работе как системный администратор?'),\n",
    "                           ('Языки программирования','Какие языки программирования вы знаете?')]"
   ]
  },
  {
   "cell_type": "code",
   "execution_count": null,
   "id": "cb81dcd5",
   "metadata": {},
   "outputs": [],
   "source": []
  },
  {
   "cell_type": "code",
   "execution_count": 569,
   "id": "5bbd2502",
   "metadata": {},
   "outputs": [],
   "source": [
    "# Создаем документ openpyxl\n",
    "wb = openpyxl.Workbook()\n",
    "# Создаем листы для односложных вопросов\n",
    "for idx,name_sheet in enumerate(lst_single_answer_sheets):\n",
    "    wb.create_sheet(title=name_sheet,index=idx+2)\n",
    "    \n",
    "# Создаем листы для вопросов с несколькими вариантами\n",
    "for idx,name_sheet in enumerate(lst_multi_answer_sheets):\n",
    "    wb.create_sheet(title=name_sheet[0],index=idx)\n",
    "\n"
   ]
  },
  {
   "cell_type": "code",
   "execution_count": 570,
   "id": "1a83415a",
   "metadata": {},
   "outputs": [],
   "source": [
    "for idx,value_tuple in enumerate(lst_multi_answer_sheets):\n",
    "    # распаковываем кортеж\n",
    "    name_sheet = value_tuple[0]\n",
    "    answer = value_tuple[1]\n",
    "    # очищаем датафрейм от лишнего\n",
    "    temp_df = multi_df.drop(columns=[column for column in multi_df.columns if answer not in column])\n",
    "   \n",
    "    # Транспонируем\n",
    "    temp_df =temp_df.transpose()\n",
    "     # Копируем датафрейм чтобы потом вычислить значения с нулем ответов\n",
    "    zero_mul_answers_df = temp_df.copy()\n",
    "    # Извлекаем индекс\n",
    "    zero_mul_answers_df = zero_mul_answers_df.reset_index()\n",
    "    \n",
    "    # получаем полный список\n",
    "    all_option_lst = zero_mul_answers_df['index'].apply(lambda x:x.split(' / ')[1]).to_list()\n",
    "\n",
    "    \n",
    "\n",
    "\n",
    "    temp_df.fillna('temp',inplace=True)\n",
    "\n",
    "    # Добавляем запятую только для задач\n",
    "    temp_df = temp_df.applymap(lambda x:x+',' if 'temp' not in x else x)\n",
    "\n",
    "    temp_out_df = temp_df.sum(axis=0).to_frame()\n",
    "\n",
    "    # Удаляем лишнее\n",
    "    temp_out_df[0] = temp_out_df[0].apply(lambda x:x.replace('temp',''))\n",
    "    #очищаем от последней запятой\n",
    "    temp_out_df[0] = temp_out_df[0].apply(lambda x: x[:-1])\n",
    "    # Создаем словарь для подсчета встречаемых задач\n",
    "    temp_dict = dict()\n",
    "    #Считаем\n",
    "    temp_out_df[0].apply(count_multiple_answers)\n",
    "\n",
    "\n",
    "    # Сортируем по значению\n",
    "    sorted_tuple = sorted(temp_dict.items(),key=lambda x:x[1],reverse=True)\n",
    "    # обратно в словарь\n",
    "    sorted_temp_dict = dict(sorted_tuple)\n",
    "\n",
    "    itog_df=pd.DataFrame(data=sorted_temp_dict.items(),columns=['Значение','Количество'])\n",
    "        # Добавляем нулевые варианты\n",
    "    current_answers_lst = itog_df['Значение'].to_list()\n",
    "    # Получаем разницу 2 списков\n",
    "    empty_answers = list(set(all_option_lst).symmetric_difference(set(current_answers_lst)))\n",
    "    # Создаем датафрейм\n",
    "    zero_df = pd.DataFrame(data=empty_answers,columns=['Значение'])\n",
    "    zero_df['Количество'] = 0\n",
    "    \n",
    "    # Добавляем к основному\n",
    "    itog_df = pd.concat([itog_df,zero_df],axis=0)\n",
    "\n",
    "    #Добавляем долю в процентах\n",
    "    itog_df['Доля в %'] = (((itog_df['Количество'] / df.shape[0])*100).round(0)).astype(int)\n",
    "\n",
    "        #Делаем заголовок\n",
    "   \n",
    "    wb[name_sheet]['A1'] = name_sheet\n",
    "    for row in dataframe_to_rows(itog_df, index=False, header=True):\n",
    "        wb[name_sheet].append(row)\n",
    "    wb[name_sheet].column_dimensions['A'].width = 40\n",
    "    wb[name_sheet].column_dimensions['B'].width = 15\n",
    "    \n",
    "\n",
    "    \n",
    "\n",
    "    "
   ]
  },
  {
   "cell_type": "raw",
   "id": "a4ba2747",
   "metadata": {},
   "source": [
    "for idx,value_tuple in enumerate(lst_multi_answer_sheets):\n",
    "    # распаковываем кортеж\n",
    "    name_sheet = value_tuple[0]\n",
    "    answer = value_tuple[1]\n",
    "    # очищаем датафрейм от лишнего\n",
    "    temp_df = multi_df.drop(columns=[column for column in multi_df.columns if answer not in column])\n",
    "    # Транспонируем\n",
    "    temp_df =temp_df.transpose()\n",
    "\n",
    "    temp_df.fillna('temp',inplace=True)\n",
    "\n",
    "    # Добавляем запятую только для задач\n",
    "    temp_df = temp_df.applymap(lambda x:x+',' if 'temp' not in x else x)\n",
    "\n",
    "    temp_out_df = temp_df.sum(axis=0).to_frame()\n",
    "\n",
    "    # Удаляем лишнее\n",
    "    temp_out_df[0] = temp_out_df[0].apply(lambda x:x.replace('temp',''))\n",
    "    #очищаем от последней запятой\n",
    "    temp_out_df[0] = temp_out_df[0].apply(lambda x: x[:-1])\n",
    "    # Создаем словарь для подсчета встречаемых задач\n",
    "    temp_dict = dict()\n",
    "    #Считаем\n",
    "    temp_out_df[0].apply(count_multiple_answers)\n",
    "\n",
    "\n",
    "    # Сортируем по значению\n",
    "    sorted_tuple = sorted(temp_dict.items(),key=lambda x:x[1],reverse=True)\n",
    "    # обратно в словарь\n",
    "    sorted_temp_dict = dict(sorted_tuple)\n",
    "\n",
    "    itog_df=pd.DataFrame(data=sorted_temp_dict.items(),columns=['Значение','Количество'])\n",
    "\n",
    "    #Добавляем долю в процентах\n",
    "    itog_df['Доля в %'] = (((itog_df['Количество'] / df.shape[0])*100).round(0)).astype(int)\n",
    "        #Делаем заголовок\n",
    "    itog_df.to_excel(f'idx.xlsx')\n",
    "    wb[name_sheet]['A1'] = name_sheet\n",
    "    for row in dataframe_to_rows(itog_df, index=False, header=True):\n",
    "        wb[name_sheet].append(row)\n",
    "    wb[name_sheet].column_dimensions['A'].width = 40\n",
    "    wb[name_sheet].column_dimensions['B'].width = 15\n",
    "    \n",
    "\n",
    "    \n",
    "\n",
    "    "
   ]
  },
  {
   "cell_type": "code",
   "execution_count": null,
   "id": "2dde3ad5",
   "metadata": {},
   "outputs": [],
   "source": []
  },
  {
   "cell_type": "code",
   "execution_count": null,
   "id": "2f1fb817",
   "metadata": {},
   "outputs": [],
   "source": []
  },
  {
   "cell_type": "code",
   "execution_count": null,
   "id": "8de54fe2",
   "metadata": {},
   "outputs": [],
   "source": []
  },
  {
   "cell_type": "code",
   "execution_count": null,
   "id": "bb47f8b5",
   "metadata": {},
   "outputs": [],
   "source": []
  },
  {
   "cell_type": "code",
   "execution_count": 571,
   "id": "5471c07c",
   "metadata": {},
   "outputs": [],
   "source": [
    "#Обрабатываем данные\n",
    "for idx,name_sheet in enumerate(lst_single_answer_sheets):\n",
    "    temp_df = simple_df.iloc[:,idx].value_counts().to_frame().reset_index()\n",
    "    \n",
    "    temp_df.columns = ['Вариант ответа','Количество']\n",
    "    #Высчитываем долю\n",
    "    temp_df['Доля в %'] = ((temp_df['Количество'] / temp_df['Количество'].sum()).round(2) * 100)\n",
    "    \n",
    "    #Делаем заголовок\n",
    "    wb[name_sheet]['A1'] = simple_df.columns[idx]\n",
    "    for row in dataframe_to_rows(temp_df, index=False, header=True):\n",
    "        wb[name_sheet].append(row)\n",
    "    \n",
    "      # Рисуем диаграмму\n",
    "    #выбираем значения\n",
    "    labels = Reference(wb[name_sheet],min_col=1,min_row=3,max_row=temp_df.shape[0]+2)\n",
    "    values = Reference(wb[name_sheet],min_col=2,min_row=2,max_row=temp_df.shape[0]+2)\n",
    "    data_val = Reference(wb[name_sheet],min_col=1,min_row=3,max_row=temp_df.shape[0]+2)\n",
    "    # Создаем объект диаграммы\n",
    "    pie_chart = PieChart()\n",
    "    pie_chart.add_data(values,titles_from_data=True)\n",
    "    pie_chart.set_categories(labels)\n",
    "    \n",
    "    # Делаем отображение числовых данных на диаграмме\n",
    "    series = Series(data_val, title='Series 1')\n",
    "    pie_chart.append(series)\n",
    "    s1 = pie_chart.series[0]\n",
    "\n",
    "    s1.dLbls = DataLabelList()\n",
    "    s1.dLbls.showVal = True\n",
    "    \n",
    "    \n",
    "    pie_chart.title = f\"{name_sheet}\"\n",
    "    #Привязываем диаграмму к ячейке А15\n",
    "    wb[name_sheet].add_chart(pie_chart,'A15')\n",
    "    # Определяем размеры диаграммы\n",
    "\n",
    "    pie_chart.width =20\n",
    "    pie_chart.height = 5\n",
    "    \n",
    "    wb[name_sheet].column_dimensions['A'].width = 40\n",
    "    wb[name_sheet].column_dimensions['B'].width = 15\n",
    " \n",
    "    \n"
   ]
  },
  {
   "cell_type": "code",
   "execution_count": null,
   "id": "5c1029cc",
   "metadata": {},
   "outputs": [],
   "source": []
  },
  {
   "cell_type": "code",
   "execution_count": null,
   "id": "caeea48b",
   "metadata": {},
   "outputs": [],
   "source": []
  },
  {
   "cell_type": "code",
   "execution_count": null,
   "id": "a20bb6be",
   "metadata": {},
   "outputs": [],
   "source": []
  },
  {
   "cell_type": "code",
   "execution_count": 572,
   "id": "9f743ce5",
   "metadata": {},
   "outputs": [],
   "source": [
    "#Удаялем лишний лист\n",
    "del wb['Sheet']\n",
    "current_time = time.strftime('%H_%M_%S')\n",
    "wb.save(f'Итоги опроса от {current_time}.xlsx')"
   ]
  },
  {
   "cell_type": "code",
   "execution_count": null,
   "id": "f2b8db1f",
   "metadata": {},
   "outputs": [],
   "source": []
  },
  {
   "cell_type": "code",
   "execution_count": null,
   "id": "68bbfd64",
   "metadata": {},
   "outputs": [],
   "source": []
  }
 ],
 "metadata": {
  "kernelspec": {
   "display_name": "Python 3 (ipykernel)",
   "language": "python",
   "name": "python3"
  },
  "language_info": {
   "codemirror_mode": {
    "name": "ipython",
    "version": 3
   },
   "file_extension": ".py",
   "mimetype": "text/x-python",
   "name": "python",
   "nbconvert_exporter": "python",
   "pygments_lexer": "ipython3",
   "version": "3.9.13"
  }
 },
 "nbformat": 4,
 "nbformat_minor": 5
}
