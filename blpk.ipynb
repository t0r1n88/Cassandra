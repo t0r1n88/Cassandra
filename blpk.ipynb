{
 "cells": [
  {
   "cell_type": "code",
   "execution_count": 47,
   "id": "358a3298",
   "metadata": {},
   "outputs": [],
   "source": [
    "import pandas as pd\n",
    "import openpyxl\n",
    "import time\n",
    "import numpy as np"
   ]
  },
  {
   "cell_type": "code",
   "execution_count": 48,
   "id": "c717a88d",
   "metadata": {},
   "outputs": [],
   "source": [
    "def combine(x):\n",
    "    # Функция для группировки всех значений в строку разделенную ;\n",
    "    return  ';'.join(x)"
   ]
  },
  {
   "cell_type": "code",
   "execution_count": 49,
   "id": "b48a2bb7",
   "metadata": {},
   "outputs": [],
   "source": [
    "def check_unique(x):\n",
    "    # Функция для нахождения разночтений в площади выделенного гектара\n",
    "    temp_lst = x.split(';')\n",
    "    temp_set = set(temp_lst)\n",
    "    if'nan' in temp_set:\n",
    "        return 'Не заполнены значения площади лесотаксационного выдела!!!'\n",
    "    else:\n",
    "        return 'Площади совпадают' if len(temp_set) == 1 else 'Ошибка!!! Площади не совпадают'"
   ]
  },
  {
   "cell_type": "code",
   "execution_count": 50,
   "id": "2efd913e",
   "metadata": {},
   "outputs": [],
   "source": [
    "df = pd.read_excel('data/BLPK.xlsx',sheet_name='Реестр УПП',skiprows=6)"
   ]
  },
  {
   "cell_type": "code",
   "execution_count": 51,
   "id": "1c0bc848",
   "metadata": {},
   "outputs": [],
   "source": [
    "# Удаляем лишние строки\n",
    "df = df.drop([0,1],axis=0)"
   ]
  },
  {
   "cell_type": "code",
   "execution_count": 52,
   "id": "b7562d79",
   "metadata": {},
   "outputs": [
    {
     "data": {
      "text/plain": [
       "(127014, 27)"
      ]
     },
     "execution_count": 52,
     "metadata": {},
     "output_type": "execute_result"
    }
   ],
   "source": [
    "df.shape"
   ]
  },
  {
   "cell_type": "code",
   "execution_count": 53,
   "id": "28a6e971",
   "metadata": {},
   "outputs": [],
   "source": [
    "# СОздаем проверочный файл для проверки правильности ввода плошади выдела\n",
    "check_df = df.copy()"
   ]
  },
  {
   "cell_type": "code",
   "execution_count": 54,
   "id": "1ae48675",
   "metadata": {},
   "outputs": [],
   "source": [
    "# Меняем тип столбца на строку чтобы создать строку включающую в себя все значения разделенные ;\n",
    "check_df['Площадь лесотаксационного выдела, га'] = check_df['Площадь лесотаксационного выдела, га'].astype(str)\n",
    "\n",
    "checked_pl=check_df.groupby(['Лесничество','Участковое лесничество','Урочище ','Номер лесного квартала','Номер лесотаксационного выдела']).agg({'Площадь лесотаксационного выдела, га':combine})\n",
    "\n",
    "# Применяем функцию првоеряющую количество уникальных значений в столбце, если больше одного то значит есть ошибка в данных\n",
    "checked_pl['Контроль совпадения площади выдела'] = checked_pl['Площадь лесотаксационного выдела, га'].apply(check_unique)\n",
    "\n",
    "\n",
    "# переименовывам колонку\n",
    "checked_pl.rename(columns={'Площадь лесотаксационного выдела, га':'Все значения площади для указанного выдела'},inplace=True)\n",
    "#Извлекаем индексы в колонки\n",
    "checked_pl = checked_pl.reset_index()\n",
    "# Заполняем nan в колонке со значениями площади\n",
    "#checked_pl['Контроль совпадения площади выдела'] = checked_pl['Все значения площади для указанного выдела'].apply(lambda x:'Не заполнены значения площади!!!' if x == 'nan' else x)\n",
    "\n",
    "#Получаем текущую дату\n",
    "current_time = time.strftime('%d.%m.%Y')\n",
    "#Сохраняем отчет\n",
    "\n",
    "checked_pl.to_excel(f'Отчет Контроль совпадения площади выдела от {current_time}.xlsx',index=False)"
   ]
  },
  {
   "cell_type": "code",
   "execution_count": null,
   "id": "9f675f30",
   "metadata": {},
   "outputs": [],
   "source": []
  },
  {
   "cell_type": "code",
   "execution_count": null,
   "id": "c2236480",
   "metadata": {},
   "outputs": [],
   "source": []
  },
  {
   "cell_type": "code",
   "execution_count": 55,
   "id": "7bb9e3a2",
   "metadata": {},
   "outputs": [],
   "source": [
    "# Готовим колонки к группировке\n",
    "df['Площадь лесотаксационного выдела, га'] = df['Площадь лесотаксационного выдела, га'].astype(str)\n",
    "\n",
    "df['Площадь лесотаксационного выдела, га'] = df['Площадь лесотаксационного выдела, га'].apply(lambda x:x.replace(',','.'))\n",
    "\n",
    "df['Площадь лесотаксационного выдела, га'] = df['Площадь лесотаксационного выдела, га'].astype(float)\n",
    "\n",
    "df['Площадь лесотаксационного выдела или его части (лесопатологического выдела), га'] = df['Площадь лесотаксационного выдела или его части (лесопатологического выдела), га'].astype(str)\n",
    "\n",
    "df['Площадь лесотаксационного выдела или его части (лесопатологического выдела), га'] = df['Площадь лесотаксационного выдела или его части (лесопатологического выдела), га'].apply(lambda x:x.replace(',','.'))\n",
    "\n",
    "df['Площадь лесотаксационного выдела или его части (лесопатологического выдела), га'] = df['Площадь лесотаксационного выдела или его части (лесопатологического выдела), га'].astype(float)"
   ]
  },
  {
   "cell_type": "code",
   "execution_count": 56,
   "id": "10422647",
   "metadata": {},
   "outputs": [],
   "source": [
    "#Группируем\n",
    "group_df=df.groupby(['Лесничество','Участковое лесничество','Урочище ','Номер лесного квартала','Номер лесотаксационного выдела']).agg({'Площадь лесотаксационного выдела, га':'sum','Площадь лесотаксационного выдела или его части (лесопатологического выдела), га':'sum'})"
   ]
  },
  {
   "cell_type": "code",
   "execution_count": 57,
   "id": "3a85b151",
   "metadata": {},
   "outputs": [
    {
     "data": {
      "text/html": [
       "<div>\n",
       "<style scoped>\n",
       "    .dataframe tbody tr th:only-of-type {\n",
       "        vertical-align: middle;\n",
       "    }\n",
       "\n",
       "    .dataframe tbody tr th {\n",
       "        vertical-align: top;\n",
       "    }\n",
       "\n",
       "    .dataframe thead th {\n",
       "        text-align: right;\n",
       "    }\n",
       "</style>\n",
       "<table border=\"1\" class=\"dataframe\">\n",
       "  <thead>\n",
       "    <tr style=\"text-align: right;\">\n",
       "      <th></th>\n",
       "      <th></th>\n",
       "      <th></th>\n",
       "      <th></th>\n",
       "      <th></th>\n",
       "      <th>Площадь лесотаксационного выдела, га</th>\n",
       "      <th>Площадь лесотаксационного выдела или его части (лесопатологического выдела), га</th>\n",
       "    </tr>\n",
       "    <tr>\n",
       "      <th>Лесничество</th>\n",
       "      <th>Участковое лесничество</th>\n",
       "      <th>Урочище</th>\n",
       "      <th>Номер лесного квартала</th>\n",
       "      <th>Номер лесотаксационного выдела</th>\n",
       "      <th></th>\n",
       "      <th></th>\n",
       "    </tr>\n",
       "  </thead>\n",
       "  <tbody>\n",
       "    <tr>\n",
       "      <th rowspan=\"5\" valign=\"top\">Баргузинское</th>\n",
       "      <th rowspan=\"5\" valign=\"top\">Баргузинское сельское</th>\n",
       "      <th rowspan=\"2\" valign=\"top\">Технический участок № 1 ООО \"Арбижил\"</th>\n",
       "      <th>3</th>\n",
       "      <th>10</th>\n",
       "      <td>250.8</td>\n",
       "      <td>20.90</td>\n",
       "    </tr>\n",
       "    <tr>\n",
       "      <th>4</th>\n",
       "      <th>8</th>\n",
       "      <td>260.8</td>\n",
       "      <td>8.26</td>\n",
       "    </tr>\n",
       "    <tr>\n",
       "      <th rowspan=\"3\" valign=\"top\">Технический участок № 2 СПК \"Улюнский\"</th>\n",
       "      <th rowspan=\"3\" valign=\"top\">3</th>\n",
       "      <th>8</th>\n",
       "      <td>19.5</td>\n",
       "      <td>4.50</td>\n",
       "    </tr>\n",
       "    <tr>\n",
       "      <th>9</th>\n",
       "      <td>8.0</td>\n",
       "      <td>9.40</td>\n",
       "    </tr>\n",
       "    <tr>\n",
       "      <th>10</th>\n",
       "      <td>27.5</td>\n",
       "      <td>20.80</td>\n",
       "    </tr>\n",
       "    <tr>\n",
       "      <th>...</th>\n",
       "      <th>...</th>\n",
       "      <th>...</th>\n",
       "      <th>...</th>\n",
       "      <th>...</th>\n",
       "      <td>...</td>\n",
       "      <td>...</td>\n",
       "    </tr>\n",
       "    <tr>\n",
       "      <th rowspan=\"5\" valign=\"top\">Хоринское</th>\n",
       "      <th rowspan=\"5\" valign=\"top\">Хоринское сельское</th>\n",
       "      <th rowspan=\"5\" valign=\"top\">Технический участок № 9 СПК «Верхне-Талецкий»</th>\n",
       "      <th rowspan=\"5\" valign=\"top\">43</th>\n",
       "      <th>11</th>\n",
       "      <td>74.0</td>\n",
       "      <td>8.30</td>\n",
       "    </tr>\n",
       "    <tr>\n",
       "      <th>13</th>\n",
       "      <td>75.0</td>\n",
       "      <td>11.00</td>\n",
       "    </tr>\n",
       "    <tr>\n",
       "      <th>16</th>\n",
       "      <td>5.4</td>\n",
       "      <td>2.20</td>\n",
       "    </tr>\n",
       "    <tr>\n",
       "      <th>17</th>\n",
       "      <td>6.5</td>\n",
       "      <td>1.00</td>\n",
       "    </tr>\n",
       "    <tr>\n",
       "      <th>18</th>\n",
       "      <td>3.0</td>\n",
       "      <td>2.00</td>\n",
       "    </tr>\n",
       "  </tbody>\n",
       "</table>\n",
       "<p>6063 rows × 2 columns</p>\n",
       "</div>"
      ],
      "text/plain": [
       "                                                                                                                                         Площадь лесотаксационного выдела, га  \\\n",
       "Лесничество  Участковое лесничество Урочище                                       Номер лесного квартала Номер лесотаксационного выдела                                         \n",
       "Баргузинское Баргузинское сельское  Технический участок № 1 ООО \"Арбижил\"         3                      10                                                             250.8   \n",
       "                                                                                  4                      8                                                              260.8   \n",
       "                                    Технический участок № 2 СПК \"Улюнский\"        3                      8                                                               19.5   \n",
       "                                                                                                         9                                                                8.0   \n",
       "                                                                                                         10                                                              27.5   \n",
       "...                                                                                                                                                                       ...   \n",
       "Хоринское    Хоринское сельское     Технический участок № 9 СПК «Верхне-Талецкий» 43                     11                                                              74.0   \n",
       "                                                                                                         13                                                              75.0   \n",
       "                                                                                                         16                                                               5.4   \n",
       "                                                                                                         17                                                               6.5   \n",
       "                                                                                                         18                                                               3.0   \n",
       "\n",
       "                                                                                                                                         Площадь лесотаксационного выдела или его части (лесопатологического выдела), га  \n",
       "Лесничество  Участковое лесничество Урочище                                       Номер лесного квартала Номер лесотаксационного выдела                                                                                   \n",
       "Баргузинское Баргузинское сельское  Технический участок № 1 ООО \"Арбижил\"         3                      10                                                                          20.90                                \n",
       "                                                                                  4                      8                                                                            8.26                                \n",
       "                                    Технический участок № 2 СПК \"Улюнский\"        3                      8                                                                            4.50                                \n",
       "                                                                                                         9                                                                            9.40                                \n",
       "                                                                                                         10                                                                          20.80                                \n",
       "...                                                                                                                                                                                    ...                                \n",
       "Хоринское    Хоринское сельское     Технический участок № 9 СПК «Верхне-Талецкий» 43                     11                                                                           8.30                                \n",
       "                                                                                                         13                                                                          11.00                                \n",
       "                                                                                                         16                                                                           2.20                                \n",
       "                                                                                                         17                                                                           1.00                                \n",
       "                                                                                                         18                                                                           2.00                                \n",
       "\n",
       "[6063 rows x 2 columns]"
      ]
     },
     "execution_count": 57,
     "metadata": {},
     "output_type": "execute_result"
    }
   ],
   "source": [
    "group_df"
   ]
  },
  {
   "cell_type": "code",
   "execution_count": 58,
   "id": "8a5cfcc7",
   "metadata": {},
   "outputs": [],
   "source": [
    "group_df.rename(columns={'Площадь лесотаксационного выдела или его части (лесопатологического выдела), га':'Используемая площадь лесотаксационного выдела, га'},inplace=True)"
   ]
  },
  {
   "cell_type": "code",
   "execution_count": 59,
   "id": "396374be",
   "metadata": {},
   "outputs": [],
   "source": [
    "# Извлекаем индексы в колонки\n",
    "group_df = group_df.reset_index()"
   ]
  },
  {
   "cell_type": "code",
   "execution_count": 60,
   "id": "77e26f65",
   "metadata": {},
   "outputs": [],
   "source": [
    "group_df['Площадь лесотаксационного выдела, га']=group_df['Площадь лесотаксационного выдела, га'].astype(float)\n",
    "group_df['Используемая площадь лесотаксационного выдела, га']=group_df['Используемая площадь лесотаксационного выдела, га'].astype(float)"
   ]
  },
  {
   "cell_type": "code",
   "execution_count": 61,
   "id": "b16b1094",
   "metadata": {},
   "outputs": [],
   "source": [
    "group_df['Контроль площади используемого надела'] = group_df['Площадь лесотаксационного выдела, га'] < group_df['Используемая площадь лесотаксационного выдела, га']"
   ]
  },
  {
   "cell_type": "code",
   "execution_count": 62,
   "id": "8dd45775",
   "metadata": {},
   "outputs": [],
   "source": [
    "group_df['Контроль площади используемого надела'] = group_df['Контроль площади используемого надела'].apply(lambda x:'Превышение используемой площади выдела!!!' if x is True else 'Все в порядке')"
   ]
  },
  {
   "cell_type": "code",
   "execution_count": 63,
   "id": "92180d27",
   "metadata": {},
   "outputs": [],
   "source": [
    "group_df.to_excel(f'Отчет о площадях выделов от {current_time}.xlsx',index=False)"
   ]
  },
  {
   "cell_type": "code",
   "execution_count": null,
   "id": "626183d9",
   "metadata": {},
   "outputs": [],
   "source": []
  }
 ],
 "metadata": {
  "kernelspec": {
   "display_name": "Python 3 (ipykernel)",
   "language": "python",
   "name": "python3"
  },
  "language_info": {
   "codemirror_mode": {
    "name": "ipython",
    "version": 3
   },
   "file_extension": ".py",
   "mimetype": "text/x-python",
   "name": "python",
   "nbconvert_exporter": "python",
   "pygments_lexer": "ipython3",
   "version": "3.9.7"
  }
 },
 "nbformat": 4,
 "nbformat_minor": 5
}
