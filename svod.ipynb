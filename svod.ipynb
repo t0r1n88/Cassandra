{
 "cells": [
  {
   "cell_type": "code",
   "execution_count": 263,
   "id": "2aff58df",
   "metadata": {},
   "outputs": [],
   "source": [
    "import pandas as pd\n",
    "import openpyxl\n",
    "from openpyxl.utils.dataframe import dataframe_to_rows\n",
    "\n",
    "import time"
   ]
  },
  {
   "cell_type": "code",
   "execution_count": 264,
   "id": "8eb4f36e",
   "metadata": {},
   "outputs": [],
   "source": [
    "# Путь к сводной таблице\n",
    "path_to_data = 'data/СВОД (7).xlsx'"
   ]
  },
  {
   "cell_type": "code",
   "execution_count": 265,
   "id": "2bc23220",
   "metadata": {},
   "outputs": [],
   "source": [
    "# Создаем список обрабатываемых листов\n",
    "lst_sheets = ['Свод_2019','Свод_2020','Свод_2021','Свод_2022']"
   ]
  },
  {
   "cell_type": "code",
   "execution_count": 274,
   "id": "a1919f96",
   "metadata": {},
   "outputs": [],
   "source": [
    "# Открываем поочередно\n",
    "for sheet in lst_sheets:\n",
    "    year = sheet.split('_')[1]\n",
    "    # Получаем список регионов на листе\n",
    "    df = pd.read_excel(path_to_data,sheet_name=sheet)\n",
    "    # Создаем датафрейм пропуская верхнюю строку\n",
    "    te_df = pd.read_excel(path_to_data,sheet_name=sheet,skiprows=1)\n",
    "    # получаем список регионов\n",
    "    lst_regions = [region for region in df.columns if 'Unnamed' not in region]\n",
    "    # Очищаем от лишних строк и колонок\n",
    "    te_df.drop(0,axis=0,inplace=True)\n",
    "    te_df.drop(columns=['№ показателя','Единица измерения','№ строки'],axis=1,inplace=True)\n",
    "    te_df.drop(columns=[column for column in te_df.columns if 'только за 4-й квартал!' in column],inplace=True)\n",
    "    te_df.drop(columns=[column for column in te_df.columns if 'от года создания ЦОПП' in column],inplace=True)\n",
    "    # Транспонируем\n",
    "    lin_df = te_df.transpose()\n",
    "\n",
    "    # Делаем список утраивая подряд названия регионов\n",
    "    lst_triple = [None]\n",
    "    for region in lst_regions:\n",
    "        for  i in range(2):\n",
    "            lst_triple.append(region)\n",
    "    \n",
    "    # Вставляем в датафрейм колонку с названием субъекта\n",
    "    lin_df.insert(0,'Наименование субъекта РФ',lst_triple)\n",
    "\n",
    "    # Создаем объект openpyxl\n",
    "    wb = openpyxl.Workbook()\n",
    "    # Получаем список без первой колонки\n",
    "    lst_col = list(lin_df.columns)[1:]\n",
    "    for idx,column in enumerate(lst_col):\n",
    "        temp = lin_df[column].to_frame().transpose()\n",
    "\n",
    "        # Создаем базовый датафрейм\n",
    "        base_df = temp.iloc[0,:3].to_frame().transpose()        \n",
    "        for i in range(3,temp.shape[1],2):\n",
    "            t_df = temp.iloc[0,i:i+2].to_frame().transpose()\n",
    "            t_df.columns = ['Планируемое значение в 2022 году','Фактическое значение нарастающим итогом за 2022 г. (сумма I, II, III, IV кварталов)']\n",
    "            t_df.insert(0,'Наименование индикатора/показателя',temp.iloc[0,0])\n",
    "            base_df = pd.concat([base_df,t_df],ignore_index=True,axis=0)\n",
    "            # Создаем лист\n",
    "        base_df.insert(1,'Фактическое значение на конец 2021 года',None)\n",
    "        base_df.insert(1,'Регион',lst_regions)\n",
    "        base_df.insert(1,'Год создания',year)\n",
    "        \n",
    "        wb.create_sheet(title=str(column),index=idx)\n",
    "        for row in dataframe_to_rows(base_df, index=False, header=True):\n",
    "            wb[str(column)].append(row)\n",
    "    \n",
    "    # Получаем текущее время\n",
    "    current_time = time.strftime('%H_%M_%S')\n",
    "    #Сохраняем файл\n",
    "    wb.save(f'{sheet} от {current_time}.xlsx')\n",
    "\n",
    "    \n",
    "\n",
    "\n"
   ]
  },
  {
   "cell_type": "code",
   "execution_count": 271,
   "id": "5ab27e46",
   "metadata": {},
   "outputs": [],
   "source": [
    "# Объединяем в одно\n",
    "wb_2019 = openpyxl.load_workbook('Свод_2019 от 13_16_13.xlsx')\n",
    "wb_2020 = openpyxl.load_workbook('Свод_2020 от 13_16_14.xlsx')"
   ]
  },
  {
   "cell_type": "code",
   "execution_count": 273,
   "id": "b456f408",
   "metadata": {},
   "outputs": [
    {
     "data": {
      "text/plain": [
       "{'56'}"
      ]
     },
     "execution_count": 273,
     "metadata": {},
     "output_type": "execute_result"
    }
   ],
   "source": [
    "set(wb_2019.sheetnames) -set(wb_2020.sheetnames)"
   ]
  },
  {
   "cell_type": "code",
   "execution_count": null,
   "id": "0f0548f5",
   "metadata": {},
   "outputs": [],
   "source": []
  },
  {
   "cell_type": "code",
   "execution_count": null,
   "id": "8b356ed0",
   "metadata": {},
   "outputs": [],
   "source": []
  },
  {
   "cell_type": "code",
   "execution_count": null,
   "id": "77f4a365",
   "metadata": {},
   "outputs": [],
   "source": []
  },
  {
   "cell_type": "code",
   "execution_count": null,
   "id": "074364b5",
   "metadata": {},
   "outputs": [],
   "source": []
  },
  {
   "cell_type": "raw",
   "id": "3052fcf3",
   "metadata": {},
   "source": [
    "# Открываем поочередно\n",
    "for sheet in lst_sheets:\n",
    "    # Получаем список регионов на листе\n",
    "    df = pd.read_excel(path_to_data,sheet_name=sheet)\n",
    "    # Создаем датафрейм пропуская верхнюю строку\n",
    "    te_df = pd.read_excel(path_to_data,sheet_name=sheet,skiprows=1)\n",
    "    # получаем список регионов\n",
    "    lst_regions = [region for region in df.columns if 'Unnamed' not in region]\n",
    "    # Очищаем от лишних строк и колонок\n",
    "    te_df.drop(0,axis=0,inplace=True)\n",
    "    te_df.drop(columns=['№ показателя','Единица измерения','№ строки'],axis=1,inplace=True)\n",
    "    # Транспонируем\n",
    "    lin_df = te_df.transpose()\n",
    "\n",
    "    # Делаем список утраивая подряд названия регионов\n",
    "    lst_triple = [None]\n",
    "    for region in lst_regions:\n",
    "        for  i in range(4):\n",
    "            lst_triple.append(region)\n",
    "    \n",
    "    # Вставляем в датафрейм колонку с названием субъекта\n",
    "    lin_df.insert(0,'Наименование субъекта РФ',lst_triple)\n",
    "\n",
    "    # Создаем объект openpyxl\n",
    "    wb = openpyxl.Workbook()\n",
    "    # Получаем список без первой колонки\n",
    "    lst_col = list(lin_df.columns)[1:]\n",
    "    for idx,column in enumerate(lst_col):\n",
    "        temp = lin_df[column].to_frame().transpose()\n",
    "\n",
    "        # Создаем базовый датафрейм\n",
    "        base_df = temp.iloc[0,:5].to_frame().transpose()        \n",
    "        for i in range(5,temp.shape[1],4):\n",
    "            t_df = temp.iloc[0,i:i+4].to_frame().transpose()\n",
    "            t_df.columns = ['Планируемое значение в 2022 году','Фактическое значение по итогам IV квартала 2022 г. (указывается значение только за 4-й квартал!)','Фактическое значение нарастающим итогом за 2022 г. (сумма I, II, III, IV кварталов)','Фактическое значение показателя с нарастающим итогом от года создания ЦОПП']\n",
    "            t_df.insert(0,'Наименование индикатора/показателя',temp.iloc[0,0])\n",
    "            base_df = pd.concat([base_df,t_df],ignore_index=True,axis=0)\n",
    "            # Создаем лист\n",
    "        base_df.insert(1,'Регион',lst_regions)\n",
    "        wb.create_sheet(title=str(column),index=idx)\n",
    "        for row in dataframe_to_rows(base_df, index=False, header=False):\n",
    "            wb[str(column)].append(row)\n",
    "    \n",
    "    # Получаем текущее время\n",
    "    current_time = time.strftime('%H_%M_%S')\n",
    "    #Сохраняем файл\n",
    "    wb.save(f'{sheet} от {current_time}.xlsx')\n",
    "\n",
    "    \n",
    "\n"
   ]
  },
  {
   "cell_type": "code",
   "execution_count": null,
   "id": "c93216ac",
   "metadata": {},
   "outputs": [],
   "source": []
  },
  {
   "cell_type": "code",
   "execution_count": null,
   "id": "5f6250ea",
   "metadata": {},
   "outputs": [],
   "source": []
  },
  {
   "cell_type": "raw",
   "id": "67a67137",
   "metadata": {},
   "source": []
  },
  {
   "cell_type": "raw",
   "id": "9c57a2d5",
   "metadata": {},
   "source": []
  },
  {
   "cell_type": "raw",
   "id": "a53717b1",
   "metadata": {},
   "source": [
    "# df =  pd.read_excel('data/СВОД (7).xlsx',sheet_name='Свод_2019')\n",
    "#df =  pd.read_excel('data/СВОД (7).xlsx',sheet_name='Свод_2020')\n",
    "#df =  pd.read_excel('data/СВОД (7).xlsx',sheet_name='Свод_2021')\n",
    "df =  pd.read_excel('data/СВОД (7).xlsx',sheet_name='Свод_2022')"
   ]
  },
  {
   "cell_type": "raw",
   "id": "c72a7262",
   "metadata": {},
   "source": []
  },
  {
   "cell_type": "raw",
   "id": "da47e279",
   "metadata": {},
   "source": [
    "df.head(1)"
   ]
  },
  {
   "cell_type": "raw",
   "id": "132100ac",
   "metadata": {},
   "source": [
    "# получаем список регионов\n",
    "lst_regions = [region for region in df.columns if 'Unnamed' not in region]\n",
    "\n",
    "lst_regions\n"
   ]
  },
  {
   "cell_type": "raw",
   "id": "dfcb17aa",
   "metadata": {},
   "source": [
    "# te_df = pd.read_excel('data/СВОД (7).xlsx',sheet_name='Свод_2019',skiprows=1)\n",
    "#te_df = pd.read_excel('data/СВОД (7).xlsx',sheet_name='Свод_2020',skiprows=1)\n",
    "#te_df = pd.read_excel('data/СВОД (7).xlsx',sheet_name='Свод_2021',skiprows=1)\n",
    "te_df = pd.read_excel('data/СВОД (7).xlsx',sheet_name='Свод_2022',skiprows=1)"
   ]
  },
  {
   "cell_type": "raw",
   "id": "7f24bb18",
   "metadata": {},
   "source": [
    "te_df.drop(0,axis=0,inplace=True)"
   ]
  },
  {
   "cell_type": "raw",
   "id": "5ff2f439",
   "metadata": {},
   "source": [
    "te_df.drop(columns=['№ показателя','Единица измерения'],axis=1,inplace=True)"
   ]
  },
  {
   "cell_type": "raw",
   "id": "028c74b2",
   "metadata": {},
   "source": [
    "te_df.head(2)"
   ]
  },
  {
   "cell_type": "raw",
   "id": "69c85901",
   "metadata": {},
   "source": [
    "te_df.drop(columns=[column for column in te_df.columns if 'только за 4-й квартал!' in column],inplace=True)"
   ]
  },
  {
   "cell_type": "raw",
   "id": "67a1c230",
   "metadata": {},
   "source": [
    "te_df.drop(columns=['№ строки'],inplace=True)"
   ]
  },
  {
   "cell_type": "raw",
   "id": "684b4805",
   "metadata": {},
   "source": [
    "lin_df = te_df.transpose()"
   ]
  },
  {
   "cell_type": "raw",
   "id": "d4d5fcfb",
   "metadata": {},
   "source": [
    "# Утраиваем\n",
    "lst_triple = [None]\n",
    "for region in lst_regions:\n",
    "    for  i in range(3):\n",
    "        lst_triple.append(region)\n"
   ]
  },
  {
   "cell_type": "raw",
   "id": "f9f43ec5",
   "metadata": {},
   "source": [
    "# Вставляем\n",
    "lin_df.insert(0,'Наименование субъекта РФ',lst_triple)"
   ]
  },
  {
   "cell_type": "raw",
   "id": "c6f2bc34",
   "metadata": {},
   "source": [
    "# Создаем объект openpyxl\n",
    "wb = openpyxl.Workbook()\n"
   ]
  },
  {
   "cell_type": "raw",
   "id": "99bb8154",
   "metadata": {},
   "source": [
    "# получаем датафрейм\n",
    "temp = lin_df[2].to_frame()"
   ]
  },
  {
   "cell_type": "raw",
   "id": "7914aced",
   "metadata": {},
   "source": [
    "temp = temp.transpose()"
   ]
  },
  {
   "cell_type": "raw",
   "id": "5ab8b7e0",
   "metadata": {},
   "source": [
    "temp.head(1)"
   ]
  },
  {
   "cell_type": "raw",
   "id": "bce9a75d",
   "metadata": {},
   "source": [
    "base_df = temp.iloc[0,:4].to_frame().transpose()"
   ]
  },
  {
   "cell_type": "raw",
   "id": "55abbb09",
   "metadata": {},
   "source": [
    "base_df"
   ]
  },
  {
   "cell_type": "raw",
   "id": "34389fa0",
   "metadata": {},
   "source": [
    "for i in range(4,temp.shape[1],3):\n",
    "    t_df = temp.iloc[0,i:i+3].to_frame().transpose()\n",
    "    t_df.columns = ['Планируемое значение в 2022 году','Фактическое значение нарастающим итогом за 2022 г. (сумма I, II, III, IV кварталов)','Фактическое значение показателя с нарастающим итогом от года создания ЦОПП']\n",
    "    t_df.insert(0,'Наименование индикатора/показателя',temp.iloc[0,0])\n",
    "    t_df.to_excel('dt.xlsx')\n",
    "    \n",
    "    base_df = pd.concat([base_df,t_df],ignore_index=True,axis=0)\n",
    "    \n",
    "    "
   ]
  },
  {
   "cell_type": "raw",
   "id": "d4f69547",
   "metadata": {},
   "source": [
    "base_df.insert(0,'Регион',lst_regions)"
   ]
  },
  {
   "cell_type": "raw",
   "id": "30ea6db4",
   "metadata": {},
   "source": [
    "# Получаем список без первых 2 колонок\n",
    "lst_col = list(lin_df.columns)[1:]"
   ]
  },
  {
   "cell_type": "raw",
   "id": "54ec3a0a",
   "metadata": {},
   "source": [
    "for idx,column in enumerate(lst_col):\n",
    "    temp = lin_df[column].to_frame().transpose()\n",
    "    \n",
    "    # Создаем базовый датафрейм\n",
    "    base_df = temp.iloc[0,:4].to_frame().transpose()\n",
    "    for i in range(4,temp.shape[1],3):\n",
    "        t_df = temp.iloc[0,i:i+3].to_frame().transpose()\n",
    "        t_df.columns = ['Планируемое значение в 2022 году','Фактическое значение нарастающим итогом за 2022 г. (сумма I, II, III, IV кварталов)','Фактическое значение показателя с нарастающим итогом от года создания ЦОПП']\n",
    "        t_df.insert(0,'Наименование индикатора/показателя',temp.iloc[0,0])\n",
    "        base_df = pd.concat([base_df,t_df],ignore_index=True,axis=0)\n",
    "        # Создаем лист\n",
    "    base_df.insert(0,'Регион',lst_regions)\n",
    "    wb.create_sheet(title=str(column),index=idx)\n",
    "    for row in dataframe_to_rows(base_df, index=False, header=False):\n",
    "        wb[str(column)].append(row)"
   ]
  },
  {
   "cell_type": "raw",
   "id": "622b3c9f",
   "metadata": {},
   "source": []
  },
  {
   "cell_type": "raw",
   "id": "cb912513",
   "metadata": {},
   "source": []
  },
  {
   "cell_type": "raw",
   "id": "0306da81",
   "metadata": {},
   "source": []
  },
  {
   "cell_type": "raw",
   "id": "45a63851",
   "metadata": {},
   "source": [
    "for idx,column in enumerate(lst_col):\n",
    "    # Создаем маленький датафрейм\n",
    "    temp_df = lin_df[['Наименование субъекта РФ',column]].transpose()\n",
    "    # Создаем лист    \n",
    "    wb.create_sheet(title=str(column),index=idx)\n",
    "    for row in dataframe_to_rows(temp_df, index=False, header=False):\n",
    "        wb[str(column)].append(row)\n",
    "    \n",
    "    \n",
    "    "
   ]
  },
  {
   "cell_type": "raw",
   "id": "0644a0b2",
   "metadata": {},
   "source": [
    "wb.save('Тест.xlsx')"
   ]
  },
  {
   "cell_type": "code",
   "execution_count": null,
   "id": "7a31055d",
   "metadata": {},
   "outputs": [],
   "source": []
  },
  {
   "cell_type": "code",
   "execution_count": null,
   "id": "e4242bb6",
   "metadata": {},
   "outputs": [],
   "source": []
  }
 ],
 "metadata": {
  "kernelspec": {
   "display_name": "Python 3 (ipykernel)",
   "language": "python",
   "name": "python3"
  },
  "language_info": {
   "codemirror_mode": {
    "name": "ipython",
    "version": 3
   },
   "file_extension": ".py",
   "mimetype": "text/x-python",
   "name": "python",
   "nbconvert_exporter": "python",
   "pygments_lexer": "ipython3",
   "version": "3.9.13"
  }
 },
 "nbformat": 4,
 "nbformat_minor": 5
}
