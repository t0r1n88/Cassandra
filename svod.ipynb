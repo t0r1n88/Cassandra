{
 "cells": [
  {
   "cell_type": "code",
   "execution_count": 136,
   "id": "2aff58df",
   "metadata": {},
   "outputs": [],
   "source": [
    "import pandas as pd\n",
    "import openpyxl\n",
    "from openpyxl.utils.dataframe import dataframe_to_rows"
   ]
  },
  {
   "cell_type": "code",
   "execution_count": 137,
   "id": "30f9ddbc",
   "metadata": {},
   "outputs": [],
   "source": [
    "# df =  pd.read_excel('data/СВОД (7).xlsx',sheet_name='Свод_2019')\n",
    "#df =  pd.read_excel('data/СВОД (7).xlsx',sheet_name='Свод_2020')\n",
    "#df =  pd.read_excel('data/СВОД (7).xlsx',sheet_name='Свод_2021')\n",
    "df =  pd.read_excel('data/СВОД (7).xlsx',sheet_name='Свод_2022')"
   ]
  },
  {
   "cell_type": "code",
   "execution_count": 138,
   "id": "ba823078",
   "metadata": {},
   "outputs": [
    {
     "data": {
      "text/html": [
       "<div>\n",
       "<style scoped>\n",
       "    .dataframe tbody tr th:only-of-type {\n",
       "        vertical-align: middle;\n",
       "    }\n",
       "\n",
       "    .dataframe tbody tr th {\n",
       "        vertical-align: top;\n",
       "    }\n",
       "\n",
       "    .dataframe thead th {\n",
       "        text-align: right;\n",
       "    }\n",
       "</style>\n",
       "<table border=\"1\" class=\"dataframe\">\n",
       "  <thead>\n",
       "    <tr style=\"text-align: right;\">\n",
       "      <th></th>\n",
       "      <th>Unnamed: 0</th>\n",
       "      <th>Unnamed: 1</th>\n",
       "      <th>Unnamed: 2</th>\n",
       "      <th>Unnamed: 3</th>\n",
       "      <th>Кабардино-Балкарская Республика</th>\n",
       "      <th>Unnamed: 5</th>\n",
       "      <th>Unnamed: 6</th>\n",
       "      <th>Unnamed: 7</th>\n",
       "      <th>Калиниградская область</th>\n",
       "      <th>Unnamed: 9</th>\n",
       "      <th>...</th>\n",
       "      <th>Unnamed: 54</th>\n",
       "      <th>Unnamed: 55</th>\n",
       "      <th>г. Севастополь</th>\n",
       "      <th>Unnamed: 57</th>\n",
       "      <th>Unnamed: 58</th>\n",
       "      <th>Unnamed: 59</th>\n",
       "      <th>Смоленская область</th>\n",
       "      <th>Unnamed: 61</th>\n",
       "      <th>Unnamed: 62</th>\n",
       "      <th>Unnamed: 63</th>\n",
       "    </tr>\n",
       "  </thead>\n",
       "  <tbody>\n",
       "    <tr>\n",
       "      <th>0</th>\n",
       "      <td>№ показателя</td>\n",
       "      <td>Наименование индикатора/показателя</td>\n",
       "      <td>№ строки</td>\n",
       "      <td>Единица измерения</td>\n",
       "      <td>Планируемое значение в 2022 году</td>\n",
       "      <td>Фактическое значение по итогам IV квартала 202...</td>\n",
       "      <td>Фактическое значение нарастающим итогом за 202...</td>\n",
       "      <td>Фактическое значение показателя с нарастающим ...</td>\n",
       "      <td>Планируемое значение в 2022 году</td>\n",
       "      <td>Фактическое значение по итогам IV квартала 202...</td>\n",
       "      <td>...</td>\n",
       "      <td>Фактическое значение нарастающим итогом за 202...</td>\n",
       "      <td>Фактическое значение показателя с нарастающим ...</td>\n",
       "      <td>Планируемое значение в 2022 году</td>\n",
       "      <td>Фактическое значение по итогам IV квартала 202...</td>\n",
       "      <td>Фактическое значение нарастающим итогом за 202...</td>\n",
       "      <td>Фактическое значение показателя с нарастающим ...</td>\n",
       "      <td>Планируемое значение в 2022 году</td>\n",
       "      <td>Фактическое значение по итогам IV квартала 202...</td>\n",
       "      <td>Фактическое значение нарастающим итогом за 202...</td>\n",
       "      <td>Фактическое значение показателя с нарастающим ...</td>\n",
       "    </tr>\n",
       "  </tbody>\n",
       "</table>\n",
       "<p>1 rows × 64 columns</p>\n",
       "</div>"
      ],
      "text/plain": [
       "     Unnamed: 0                          Unnamed: 1 Unnamed: 2  \\\n",
       "0  № показателя  Наименование индикатора/показателя   № строки   \n",
       "\n",
       "          Unnamed: 3   Кабардино-Балкарская Республика  \\\n",
       "0  Единица измерения  Планируемое значение в 2022 году   \n",
       "\n",
       "                                          Unnamed: 5  \\\n",
       "0  Фактическое значение по итогам IV квартала 202...   \n",
       "\n",
       "                                          Unnamed: 6  \\\n",
       "0  Фактическое значение нарастающим итогом за 202...   \n",
       "\n",
       "                                          Unnamed: 7  \\\n",
       "0  Фактическое значение показателя с нарастающим ...   \n",
       "\n",
       "             Калиниградская область  \\\n",
       "0  Планируемое значение в 2022 году   \n",
       "\n",
       "                                          Unnamed: 9  ...  \\\n",
       "0  Фактическое значение по итогам IV квартала 202...  ...   \n",
       "\n",
       "                                         Unnamed: 54  \\\n",
       "0  Фактическое значение нарастающим итогом за 202...   \n",
       "\n",
       "                                         Unnamed: 55  \\\n",
       "0  Фактическое значение показателя с нарастающим ...   \n",
       "\n",
       "                     г. Севастополь  \\\n",
       "0  Планируемое значение в 2022 году   \n",
       "\n",
       "                                         Unnamed: 57  \\\n",
       "0  Фактическое значение по итогам IV квартала 202...   \n",
       "\n",
       "                                         Unnamed: 58  \\\n",
       "0  Фактическое значение нарастающим итогом за 202...   \n",
       "\n",
       "                                         Unnamed: 59  \\\n",
       "0  Фактическое значение показателя с нарастающим ...   \n",
       "\n",
       "                 Смоленская область  \\\n",
       "0  Планируемое значение в 2022 году   \n",
       "\n",
       "                                         Unnamed: 61  \\\n",
       "0  Фактическое значение по итогам IV квартала 202...   \n",
       "\n",
       "                                         Unnamed: 62  \\\n",
       "0  Фактическое значение нарастающим итогом за 202...   \n",
       "\n",
       "                                         Unnamed: 63  \n",
       "0  Фактическое значение показателя с нарастающим ...  \n",
       "\n",
       "[1 rows x 64 columns]"
      ]
     },
     "execution_count": 138,
     "metadata": {},
     "output_type": "execute_result"
    }
   ],
   "source": [
    "df.head(1)"
   ]
  },
  {
   "cell_type": "code",
   "execution_count": 139,
   "id": "6dead32b",
   "metadata": {},
   "outputs": [
    {
     "data": {
      "text/plain": [
       "['Кабардино-Балкарская Республика',\n",
       " 'Калиниградская область',\n",
       " 'Костромская область',\n",
       " 'Курганская область',\n",
       " 'Ленинградская область',\n",
       " 'Липецкая область',\n",
       " 'Мурманская область',\n",
       " 'Орловская область',\n",
       " 'Псковская область',\n",
       " 'Республикаа Адыгея',\n",
       " 'Республика Карелия',\n",
       " 'Республика Марий Эл',\n",
       " 'Республика Мордовия',\n",
       " 'г. Севастополь',\n",
       " 'Смоленская область']"
      ]
     },
     "execution_count": 139,
     "metadata": {},
     "output_type": "execute_result"
    }
   ],
   "source": [
    "# получаем список регионов\n",
    "lst_regions = [region for region in df.columns if 'Unnamed' not in region]\n",
    "\n",
    "lst_regions\n"
   ]
  },
  {
   "cell_type": "code",
   "execution_count": 140,
   "id": "d05b4642",
   "metadata": {},
   "outputs": [],
   "source": [
    "# te_df = pd.read_excel('data/СВОД (7).xlsx',sheet_name='Свод_2019',skiprows=1)\n",
    "#te_df = pd.read_excel('data/СВОД (7).xlsx',sheet_name='Свод_2020',skiprows=1)\n",
    "#te_df = pd.read_excel('data/СВОД (7).xlsx',sheet_name='Свод_2021',skiprows=1)\n",
    "te_df = pd.read_excel('data/СВОД (7).xlsx',sheet_name='Свод_2022',skiprows=1)"
   ]
  },
  {
   "cell_type": "code",
   "execution_count": 141,
   "id": "af2604b2",
   "metadata": {},
   "outputs": [],
   "source": [
    "te_df.drop(0,axis=0,inplace=True)"
   ]
  },
  {
   "cell_type": "code",
   "execution_count": 142,
   "id": "7d784403",
   "metadata": {},
   "outputs": [],
   "source": [
    "te_df.drop(columns=['№ показателя','Единица измерения'],axis=1,inplace=True)"
   ]
  },
  {
   "cell_type": "code",
   "execution_count": 143,
   "id": "15717860",
   "metadata": {},
   "outputs": [
    {
     "data": {
      "text/html": [
       "<div>\n",
       "<style scoped>\n",
       "    .dataframe tbody tr th:only-of-type {\n",
       "        vertical-align: middle;\n",
       "    }\n",
       "\n",
       "    .dataframe tbody tr th {\n",
       "        vertical-align: top;\n",
       "    }\n",
       "\n",
       "    .dataframe thead th {\n",
       "        text-align: right;\n",
       "    }\n",
       "</style>\n",
       "<table border=\"1\" class=\"dataframe\">\n",
       "  <thead>\n",
       "    <tr style=\"text-align: right;\">\n",
       "      <th></th>\n",
       "      <th>Наименование индикатора/показателя</th>\n",
       "      <th>№ строки</th>\n",
       "      <th>Планируемое значение в 2022 году</th>\n",
       "      <th>Фактическое значение по итогам IV квартала 2022 г. (указывается значение только за 4-й квартал!)</th>\n",
       "      <th>Фактическое значение нарастающим итогом за 2022 г. (сумма I, II, III, IV кварталов)</th>\n",
       "      <th>Фактическое значение показателя с нарастающим итогом от года создания ЦОПП</th>\n",
       "      <th>Планируемое значение в 2022 году.1</th>\n",
       "      <th>Фактическое значение по итогам IV квартала 2022 г. (указывается значение только за 4-й квартал!).1</th>\n",
       "      <th>Фактическое значение нарастающим итогом за 2022 г. (сумма I, II, III, IV кварталов).1</th>\n",
       "      <th>Фактическое значение показателя с нарастающим итогом от года создания ЦОПП.1</th>\n",
       "      <th>...</th>\n",
       "      <th>Фактическое значение нарастающим итогом за 2022 г. (сумма I, II, III, IV кварталов).12</th>\n",
       "      <th>Фактическое значение показателя с нарастающим итогом от года создания ЦОПП.12</th>\n",
       "      <th>Планируемое значение в 2022 году.13</th>\n",
       "      <th>Фактическое значение по итогам IV квартала 2022 г. (указывается значение только за 4-й квартал!).13</th>\n",
       "      <th>Фактическое значение нарастающим итогом за 2022 г. (сумма I, II, III, IV кварталов).13</th>\n",
       "      <th>Фактическое значение показателя с нарастающим итогом от года создания ЦОПП.13</th>\n",
       "      <th>Планируемое значение в 2022 году.14</th>\n",
       "      <th>Фактическое значение по итогам IV квартала 2022 г. (указывается значение только за 4-й квартал!).14</th>\n",
       "      <th>Фактическое значение нарастающим итогом за 2022 г. (сумма I, II, III, IV кварталов).14</th>\n",
       "      <th>Фактическое значение показателя с нарастающим итогом от года создания ЦОПП.14</th>\n",
       "    </tr>\n",
       "  </thead>\n",
       "  <tbody>\n",
       "    <tr>\n",
       "      <th>1</th>\n",
       "      <td>Создана цифровая платформа ЦОПП в сети Интернет</td>\n",
       "      <td>1</td>\n",
       "      <td>да</td>\n",
       "      <td>Да</td>\n",
       "      <td>Да</td>\n",
       "      <td>Да</td>\n",
       "      <td>да</td>\n",
       "      <td>да</td>\n",
       "      <td>да</td>\n",
       "      <td>да</td>\n",
       "      <td>...</td>\n",
       "      <td>да</td>\n",
       "      <td>да</td>\n",
       "      <td>да</td>\n",
       "      <td>да</td>\n",
       "      <td>да</td>\n",
       "      <td>да</td>\n",
       "      <td>да</td>\n",
       "      <td>да</td>\n",
       "      <td>да</td>\n",
       "      <td>да</td>\n",
       "    </tr>\n",
       "    <tr>\n",
       "      <th>2</th>\n",
       "      <td>Численность граждан Российской Федерации, охва...</td>\n",
       "      <td>2</td>\n",
       "      <td>0</td>\n",
       "      <td>1531</td>\n",
       "      <td>4002</td>\n",
       "      <td>4002</td>\n",
       "      <td>4000</td>\n",
       "      <td>3213</td>\n",
       "      <td>7857</td>\n",
       "      <td>7857</td>\n",
       "      <td>...</td>\n",
       "      <td>4265</td>\n",
       "      <td>4265</td>\n",
       "      <td>4250</td>\n",
       "      <td>3123</td>\n",
       "      <td>6033</td>\n",
       "      <td>6033</td>\n",
       "      <td>4000</td>\n",
       "      <td>4465</td>\n",
       "      <td>5160</td>\n",
       "      <td>5160</td>\n",
       "    </tr>\n",
       "  </tbody>\n",
       "</table>\n",
       "<p>2 rows × 62 columns</p>\n",
       "</div>"
      ],
      "text/plain": [
       "                  Наименование индикатора/показателя  № строки  \\\n",
       "1    Создана цифровая платформа ЦОПП в сети Интернет         1   \n",
       "2  Численность граждан Российской Федерации, охва...         2   \n",
       "\n",
       "  Планируемое значение в 2022 году  \\\n",
       "1                               да   \n",
       "2                                0   \n",
       "\n",
       "  Фактическое значение по итогам IV квартала 2022 г. (указывается значение только за 4-й квартал!)  \\\n",
       "1                                                 Да                                                 \n",
       "2                                               1531                                                 \n",
       "\n",
       "  Фактическое значение нарастающим итогом за 2022 г. (сумма I, II, III, IV кварталов)  \\\n",
       "1                                                 Да                                    \n",
       "2                                               4002                                    \n",
       "\n",
       "  Фактическое значение показателя с нарастающим итогом от года создания ЦОПП  \\\n",
       "1                                                 Да                           \n",
       "2                                               4002                           \n",
       "\n",
       "  Планируемое значение в 2022 году.1  \\\n",
       "1                                 да   \n",
       "2                               4000   \n",
       "\n",
       "  Фактическое значение по итогам IV квартала 2022 г. (указывается значение только за 4-й квартал!).1  \\\n",
       "1                                                 да                                                   \n",
       "2                                               3213                                                   \n",
       "\n",
       "  Фактическое значение нарастающим итогом за 2022 г. (сумма I, II, III, IV кварталов).1  \\\n",
       "1                                                 да                                      \n",
       "2                                               7857                                      \n",
       "\n",
       "  Фактическое значение показателя с нарастающим итогом от года создания ЦОПП.1  \\\n",
       "1                                                 да                             \n",
       "2                                               7857                             \n",
       "\n",
       "   ...  \\\n",
       "1  ...   \n",
       "2  ...   \n",
       "\n",
       "  Фактическое значение нарастающим итогом за 2022 г. (сумма I, II, III, IV кварталов).12  \\\n",
       "1                                                 да                                       \n",
       "2                                               4265                                       \n",
       "\n",
       "  Фактическое значение показателя с нарастающим итогом от года создания ЦОПП.12  \\\n",
       "1                                                 да                              \n",
       "2                                               4265                              \n",
       "\n",
       "  Планируемое значение в 2022 году.13  \\\n",
       "1                                  да   \n",
       "2                                4250   \n",
       "\n",
       "  Фактическое значение по итогам IV квартала 2022 г. (указывается значение только за 4-й квартал!).13  \\\n",
       "1                                                 да                                                    \n",
       "2                                               3123                                                    \n",
       "\n",
       "  Фактическое значение нарастающим итогом за 2022 г. (сумма I, II, III, IV кварталов).13  \\\n",
       "1                                                 да                                       \n",
       "2                                               6033                                       \n",
       "\n",
       "  Фактическое значение показателя с нарастающим итогом от года создания ЦОПП.13  \\\n",
       "1                                                 да                              \n",
       "2                                               6033                              \n",
       "\n",
       "  Планируемое значение в 2022 году.14  \\\n",
       "1                                  да   \n",
       "2                                4000   \n",
       "\n",
       "  Фактическое значение по итогам IV квартала 2022 г. (указывается значение только за 4-й квартал!).14  \\\n",
       "1                                                 да                                                    \n",
       "2                                               4465                                                    \n",
       "\n",
       "  Фактическое значение нарастающим итогом за 2022 г. (сумма I, II, III, IV кварталов).14  \\\n",
       "1                                                 да                                       \n",
       "2                                               5160                                       \n",
       "\n",
       "  Фактическое значение показателя с нарастающим итогом от года создания ЦОПП.14  \n",
       "1                                                 да                             \n",
       "2                                               5160                             \n",
       "\n",
       "[2 rows x 62 columns]"
      ]
     },
     "execution_count": 143,
     "metadata": {},
     "output_type": "execute_result"
    }
   ],
   "source": [
    "te_df.head(2)"
   ]
  },
  {
   "cell_type": "code",
   "execution_count": 144,
   "id": "20a7f9cf",
   "metadata": {},
   "outputs": [],
   "source": [
    "te_df.drop(columns=[column for column in te_df.columns if 'только за 4-й квартал!' in column],inplace=True)"
   ]
  },
  {
   "cell_type": "code",
   "execution_count": 145,
   "id": "a81aa2c2",
   "metadata": {},
   "outputs": [],
   "source": [
    "te_df.drop(columns=['№ строки'],inplace=True)"
   ]
  },
  {
   "cell_type": "code",
   "execution_count": 146,
   "id": "04d6001f",
   "metadata": {},
   "outputs": [],
   "source": [
    "lin_df = te_df.transpose()"
   ]
  },
  {
   "cell_type": "code",
   "execution_count": 147,
   "id": "6d0e81af",
   "metadata": {},
   "outputs": [],
   "source": [
    "# Утраиваем\n",
    "lst_triple = [None]\n",
    "for region in lst_regions:\n",
    "    for  i in range(3):\n",
    "        lst_triple.append(region)\n"
   ]
  },
  {
   "cell_type": "code",
   "execution_count": 148,
   "id": "7076f994",
   "metadata": {},
   "outputs": [],
   "source": [
    "# Вставляем\n",
    "lin_df.insert(0,'Наименование субъекта РФ',lst_triple)"
   ]
  },
  {
   "cell_type": "code",
   "execution_count": 149,
   "id": "705c3a52",
   "metadata": {},
   "outputs": [],
   "source": [
    "# Создаем объект openpyxl\n",
    "wb = openpyxl.Workbook()\n"
   ]
  },
  {
   "cell_type": "markdown",
   "id": "4b00e356",
   "metadata": {},
   "source": [
    "# получаем датафрейм\n",
    "temp = lin_df[2].to_frame()"
   ]
  },
  {
   "cell_type": "markdown",
   "id": "cc545c78",
   "metadata": {},
   "source": [
    "temp = temp.transpose()"
   ]
  },
  {
   "cell_type": "markdown",
   "id": "91e26f69",
   "metadata": {},
   "source": [
    "temp.head(1)"
   ]
  },
  {
   "cell_type": "markdown",
   "id": "795a7874",
   "metadata": {},
   "source": [
    "base_df = temp.iloc[0,:4].to_frame().transpose()"
   ]
  },
  {
   "cell_type": "markdown",
   "id": "7ade09ee",
   "metadata": {},
   "source": [
    "base_df"
   ]
  },
  {
   "cell_type": "markdown",
   "id": "23650501",
   "metadata": {},
   "source": [
    "for i in range(4,temp.shape[1],3):\n",
    "    t_df = temp.iloc[0,i:i+3].to_frame().transpose()\n",
    "    t_df.columns = ['Планируемое значение в 2022 году','Фактическое значение нарастающим итогом за 2022 г. (сумма I, II, III, IV кварталов)','Фактическое значение показателя с нарастающим итогом от года создания ЦОПП']\n",
    "    t_df.insert(0,'Наименование индикатора/показателя',temp.iloc[0,0])\n",
    "    t_df.to_excel('dt.xlsx')\n",
    "    \n",
    "    base_df = pd.concat([base_df,t_df],ignore_index=True,axis=0)\n",
    "    \n",
    "    "
   ]
  },
  {
   "cell_type": "raw",
   "id": "94e69950",
   "metadata": {},
   "source": [
    "base_df.insert(0,'Регион',lst_regions)"
   ]
  },
  {
   "cell_type": "code",
   "execution_count": 150,
   "id": "d5076331",
   "metadata": {},
   "outputs": [],
   "source": [
    "# Получаем список без первых 2 колонок\n",
    "lst_col = list(lin_df.columns)[1:]"
   ]
  },
  {
   "cell_type": "code",
   "execution_count": 151,
   "id": "2a0099d2",
   "metadata": {},
   "outputs": [],
   "source": [
    "for idx,column in enumerate(lst_col):\n",
    "    temp = lin_df[column].to_frame().transpose()\n",
    "    \n",
    "    # Создаем базовый датафрейм\n",
    "    base_df = temp.iloc[0,:4].to_frame().transpose()\n",
    "    for i in range(4,temp.shape[1],3):\n",
    "        t_df = temp.iloc[0,i:i+3].to_frame().transpose()\n",
    "        t_df.columns = ['Планируемое значение в 2022 году','Фактическое значение нарастающим итогом за 2022 г. (сумма I, II, III, IV кварталов)','Фактическое значение показателя с нарастающим итогом от года создания ЦОПП']\n",
    "        t_df.insert(0,'Наименование индикатора/показателя',temp.iloc[0,0])\n",
    "        base_df = pd.concat([base_df,t_df],ignore_index=True,axis=0)\n",
    "        # Создаем лист\n",
    "    base_df.insert(0,'Регион',lst_regions)\n",
    "    wb.create_sheet(title=str(column),index=idx)\n",
    "    for row in dataframe_to_rows(base_df, index=False, header=False):\n",
    "        wb[str(column)].append(row)"
   ]
  },
  {
   "cell_type": "code",
   "execution_count": null,
   "id": "7317073b",
   "metadata": {},
   "outputs": [],
   "source": []
  },
  {
   "cell_type": "code",
   "execution_count": null,
   "id": "1e9c6308",
   "metadata": {},
   "outputs": [],
   "source": []
  },
  {
   "cell_type": "code",
   "execution_count": null,
   "id": "c25209c5",
   "metadata": {},
   "outputs": [],
   "source": []
  },
  {
   "cell_type": "raw",
   "id": "8dd2bff3",
   "metadata": {},
   "source": [
    "for idx,column in enumerate(lst_col):\n",
    "    # Создаем маленький датафрейм\n",
    "    temp_df = lin_df[['Наименование субъекта РФ',column]].transpose()\n",
    "    # Создаем лист    \n",
    "    wb.create_sheet(title=str(column),index=idx)\n",
    "    for row in dataframe_to_rows(temp_df, index=False, header=False):\n",
    "        wb[str(column)].append(row)\n",
    "    \n",
    "    \n",
    "    "
   ]
  },
  {
   "cell_type": "code",
   "execution_count": 152,
   "id": "3845bf14",
   "metadata": {},
   "outputs": [],
   "source": [
    "wb.save('Тест.xlsx')"
   ]
  },
  {
   "cell_type": "code",
   "execution_count": null,
   "id": "7a31055d",
   "metadata": {},
   "outputs": [],
   "source": []
  },
  {
   "cell_type": "code",
   "execution_count": null,
   "id": "e4242bb6",
   "metadata": {},
   "outputs": [],
   "source": []
  }
 ],
 "metadata": {
  "kernelspec": {
   "display_name": "Python 3 (ipykernel)",
   "language": "python",
   "name": "python3"
  },
  "language_info": {
   "codemirror_mode": {
    "name": "ipython",
    "version": 3
   },
   "file_extension": ".py",
   "mimetype": "text/x-python",
   "name": "python",
   "nbconvert_exporter": "python",
   "pygments_lexer": "ipython3",
   "version": "3.9.7"
  }
 },
 "nbformat": 4,
 "nbformat_minor": 5
}
