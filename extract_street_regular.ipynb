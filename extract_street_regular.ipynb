{
 "cells": [
  {
   "cell_type": "code",
   "execution_count": 247,
   "id": "265a4531",
   "metadata": {},
   "outputs": [
    {
     "data": {
      "text/plain": [
       "'\\nизвлечение улиц и проверка вхождения значений в этот список\\n'"
      ]
     },
     "execution_count": 247,
     "metadata": {},
     "output_type": "execute_result"
    }
   ],
   "source": [
    "\"\"\"\n",
    "извлечение улиц и проверка вхождения значений в этот список\n",
    "\"\"\""
   ]
  },
  {
   "cell_type": "code",
   "execution_count": 248,
   "id": "8587766c",
   "metadata": {},
   "outputs": [],
   "source": [
    "import pandas as pd\n",
    "import re"
   ]
  },
  {
   "cell_type": "code",
   "execution_count": 249,
   "id": "e7d38fbc",
   "metadata": {},
   "outputs": [],
   "source": [
    "def extract_street_on_district(cell):\n",
    "    \"\"\"\n",
    "    функция для извлечения улиц из списка улиц в округе\n",
    "    \"\"\"\n",
    "    temp_lst = [] # список для хранения найденных улиц\n",
    "    # делим значения по точке с запятой\n",
    "    lst_first = cell.split(';')\n",
    "    for part in lst_first:\n",
    "        foo_lst = part.split(',')\n",
    "        street_temp = foo_lst[0].strip().lower()\n",
    "        street = street_temp.split(' ',maxsplit=1)\n",
    "        district_street_25.add(street[1])\n",
    "    \n",
    "    "
   ]
  },
  {
   "cell_type": "code",
   "execution_count": 250,
   "id": "8ddfd335",
   "metadata": {},
   "outputs": [],
   "source": [
    "def extract_street_23(cell):\n",
    "    result = re.findall(r'[ЁА-Я][ёа-я]+',cell)\n",
    "    \n",
    "    result = set(map(str.lower,result))\n",
    "    district_street_25.update(result)"
   ]
  },
  {
   "cell_type": "code",
   "execution_count": 251,
   "id": "0796d88d",
   "metadata": {},
   "outputs": [],
   "source": [
    "def regular_extract_street(cell):\n",
    "    \"\"\"\n",
    "    извлечение улицы с помощью регулярного выражения\n",
    "    \"\"\"\n",
    "    cell = cell.lower()\n",
    "    if '50 лет' in cell:\n",
    "        return '50-летия октября'\n",
    "    for street in district_street_25:\n",
    "        if street in cell:\n",
    "            return street\n",
    "    return 'Улица не найдена'\n",
    "\n",
    "\n",
    "    "
   ]
  },
  {
   "cell_type": "code",
   "execution_count": null,
   "id": "5c0d6636",
   "metadata": {},
   "outputs": [],
   "source": []
  },
  {
   "cell_type": "code",
   "execution_count": 252,
   "id": "acea95c4",
   "metadata": {},
   "outputs": [],
   "source": [
    "# создаем множество для хранения улиц\n",
    "district_street_25 = set()\n"
   ]
  },
  {
   "cell_type": "code",
   "execution_count": 253,
   "id": "7e6a861a",
   "metadata": {},
   "outputs": [],
   "source": [
    "df = pd.read_excel('data/Список студентов.xlsx')"
   ]
  },
  {
   "cell_type": "code",
   "execution_count": 254,
   "id": "31555234",
   "metadata": {},
   "outputs": [],
   "source": [
    "df_25 = pd.read_excel('data/Нарезка округ 25.xlsx')\n",
    "df_23 = pd.read_excel('data/Нарезка 23 округ.xlsx')"
   ]
  },
  {
   "cell_type": "code",
   "execution_count": 255,
   "id": "b5c60d8d",
   "metadata": {},
   "outputs": [
    {
     "data": {
      "text/plain": [
       "0     None\n",
       "1     None\n",
       "2     None\n",
       "3     None\n",
       "4     None\n",
       "5     None\n",
       "6     None\n",
       "7     None\n",
       "8     None\n",
       "9     None\n",
       "10    None\n",
       "11    None\n",
       "12    None\n",
       "13    None\n",
       "Name: границы УИК, dtype: object"
      ]
     },
     "execution_count": 255,
     "metadata": {},
     "output_type": "execute_result"
    }
   ],
   "source": [
    "df_23['границы УИК'].apply(extract_street_23)"
   ]
  },
  {
   "cell_type": "code",
   "execution_count": 256,
   "id": "efc407d0",
   "metadata": {},
   "outputs": [
    {
     "data": {
      "text/plain": [
       "58"
      ]
     },
     "execution_count": 256,
     "metadata": {},
     "output_type": "execute_result"
    }
   ],
   "source": [
    "len(district_street_25)"
   ]
  },
  {
   "cell_type": "code",
   "execution_count": 257,
   "id": "e9c7439f",
   "metadata": {},
   "outputs": [
    {
     "data": {
      "text/plain": [
       "{'амагаева',\n",
       " 'бородинский',\n",
       " 'верхняя',\n",
       " 'весенний',\n",
       " 'гагарина',\n",
       " 'гольдсобеля',\n",
       " 'данчинова',\n",
       " 'дзержинского',\n",
       " 'добролюбова',\n",
       " 'дундича',\n",
       " 'жарковая',\n",
       " 'жуковского',\n",
       " 'калужская',\n",
       " 'клыпина',\n",
       " 'коммунара',\n",
       " 'комсомольский',\n",
       " 'кузнецова',\n",
       " 'лысогорская',\n",
       " 'медведниковская',\n",
       " 'менделеева',\n",
       " 'милютина',\n",
       " 'намсараева',\n",
       " 'нарвская',\n",
       " 'новогордеевская',\n",
       " 'новогордеевский',\n",
       " 'новоселов',\n",
       " 'октября',\n",
       " 'осипенко',\n",
       " 'панорамная',\n",
       " 'переулков',\n",
       " 'пестеля',\n",
       " 'пржевальского',\n",
       " 'проездов',\n",
       " 'проектная',\n",
       " 'промышленный',\n",
       " 'путейская',\n",
       " 'пушкина',\n",
       " 'ревельская',\n",
       " 'революции',\n",
       " 'рылеева',\n",
       " 'садовый',\n",
       " 'связистов',\n",
       " 'сенчихина',\n",
       " 'снегиревская',\n",
       " 'содружество',\n",
       " 'стрелецкая',\n",
       " 'строительная',\n",
       " 'строительный',\n",
       " 'троицкая',\n",
       " 'уральская',\n",
       " 'цивилева',\n",
       " 'циолковского',\n",
       " 'чапаева',\n",
       " 'черняховского',\n",
       " 'чертенкова',\n",
       " 'шульца',\n",
       " 'щорса',\n",
       " 'юного'}"
      ]
     },
     "execution_count": 257,
     "metadata": {},
     "output_type": "execute_result"
    }
   ],
   "source": [
    "district_street_25"
   ]
  },
  {
   "cell_type": "code",
   "execution_count": 258,
   "id": "a21b815d",
   "metadata": {},
   "outputs": [
    {
     "data": {
      "text/plain": [
       "0     None\n",
       "1     None\n",
       "2     None\n",
       "3     None\n",
       "4     None\n",
       "5     None\n",
       "6     None\n",
       "7     None\n",
       "8     None\n",
       "9     None\n",
       "10    None\n",
       "11    None\n",
       "12    None\n",
       "13    None\n",
       "Name: Границы участка (внутригородская территория города федерального значения/городское (сельское) поселение/район городского округа, улица, дом), dtype: object"
      ]
     },
     "execution_count": 258,
     "metadata": {},
     "output_type": "execute_result"
    }
   ],
   "source": [
    "df_25['Границы участка (внутригородская территория города федерального значения/городское (сельское) поселение/район городского округа, улица, дом)'].apply(extract_street_on_district)"
   ]
  },
  {
   "cell_type": "code",
   "execution_count": 259,
   "id": "c3600fc4",
   "metadata": {},
   "outputs": [],
   "source": [
    "df['Адрес регистрации'] =df['Адрес регистрации'].apply(lambda x:x.lower())"
   ]
  },
  {
   "cell_type": "code",
   "execution_count": 260,
   "id": "c33db023",
   "metadata": {},
   "outputs": [],
   "source": [
    "# оставляем только улан-удэ\n",
    "uu_df = df[df['Адрес регистрации'].str.contains('улан-удэ')]"
   ]
  },
  {
   "cell_type": "code",
   "execution_count": null,
   "id": "230fec8e",
   "metadata": {},
   "outputs": [],
   "source": []
  },
  {
   "cell_type": "code",
   "execution_count": null,
   "id": "7aa46b76",
   "metadata": {},
   "outputs": [],
   "source": []
  },
  {
   "cell_type": "code",
   "execution_count": 261,
   "id": "30cd95c8",
   "metadata": {},
   "outputs": [
    {
     "name": "stderr",
     "output_type": "stream",
     "text": [
      "C:\\Users\\1\\AppData\\Local\\Temp/ipykernel_9760/2619704665.py:1: SettingWithCopyWarning: \n",
      "A value is trying to be set on a copy of a slice from a DataFrame.\n",
      "Try using .loc[row_indexer,col_indexer] = value instead\n",
      "\n",
      "See the caveats in the documentation: https://pandas.pydata.org/pandas-docs/stable/user_guide/indexing.html#returning-a-view-versus-a-copy\n",
      "  uu_df['Улица'] = uu_df['Адрес регистрации'].apply(regular_extract_street)\n"
     ]
    }
   ],
   "source": [
    "uu_df['Улица'] = uu_df['Адрес регистрации'].apply(regular_extract_street)"
   ]
  },
  {
   "cell_type": "code",
   "execution_count": 262,
   "id": "c2644580",
   "metadata": {},
   "outputs": [],
   "source": [
    "uu_df_25 = uu_df[uu_df['Улица'] !='Улица не найдена']"
   ]
  },
  {
   "cell_type": "code",
   "execution_count": 263,
   "id": "d1df0111",
   "metadata": {},
   "outputs": [],
   "source": [
    "uu_df_25.to_excel('Список зарегистрированных.xlsx',index=False)"
   ]
  },
  {
   "cell_type": "code",
   "execution_count": null,
   "id": "1cce3b52",
   "metadata": {},
   "outputs": [],
   "source": []
  },
  {
   "cell_type": "code",
   "execution_count": null,
   "id": "011fffbe",
   "metadata": {},
   "outputs": [],
   "source": []
  },
  {
   "cell_type": "code",
   "execution_count": null,
   "id": "eb15df7f",
   "metadata": {},
   "outputs": [],
   "source": []
  }
 ],
 "metadata": {
  "kernelspec": {
   "display_name": "Python 3 (ipykernel)",
   "language": "python",
   "name": "python3"
  },
  "language_info": {
   "codemirror_mode": {
    "name": "ipython",
    "version": 3
   },
   "file_extension": ".py",
   "mimetype": "text/x-python",
   "name": "python",
   "nbconvert_exporter": "python",
   "pygments_lexer": "ipython3",
   "version": "3.9.7"
  }
 },
 "nbformat": 4,
 "nbformat_minor": 5
}
